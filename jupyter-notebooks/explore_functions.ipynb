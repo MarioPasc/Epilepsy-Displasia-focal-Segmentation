{
 "cells": [
  {
   "cell_type": "code",
   "execution_count": 88,
   "outputs": [],
   "source": [
    "import os\n",
    "import nibabel as nib\n",
    "import cv2 as cv\n",
    "import numpy as np\n",
    "from sklearn.model_selection import train_test_split\n",
    "import matplotlib.pyplot as plt\n",
    "\n",
    "slices_excluir = \"/home/mariopasc/Python/Projects/BSC_final/epilepsy-displasia-focal-segmentation/text-info-files/excluir-slices.txt\"\n",
    "\n",
    "t2flair_path = \"/home/mariopasc/Python/Datasets/ds-epilepsy/T2flair-study\"\n",
    "t1w_path = \"/home/mariopasc/Python/Datasets/ds-epilepsy/T1w-study\"\n",
    "roi_path = \"/home/mariopasc/Python/Datasets/ds-epilepsy/roi\"\n",
    "\n",
    "t2flair_nii_path = \"/home/mariopasc/Python/Datasets/ds-epilepsy/T2flair-study-nii\"\n",
    "t1w_nii_path = \"/home/mariopasc/Python/Datasets/ds-epilepsy/T1w-study-nii\"\n",
    "roi_nii_path = \"/home/mariopasc/Python/Datasets/ds-epilepsy/roi-nii\"\n",
    "\n",
    "t2flair_im_train_path = \"/home/mariopasc/Python/Datasets/t2flair-yolov8-ds/images/train\"\n",
    "t2flair_im_val_path = \"/home/mariopasc/Python/Datasets/t2flair-yolov8-ds/images/val\"\n",
    "t2flair_label_train_path = \"/home/mariopasc/Python/Datasets/t2flair-yolov8-ds/labels/train\"\n",
    "t2flair_label_train_val = \"/home/mariopasc/Python/Datasets/t2flair-yolov8-ds/labels/val\"\n",
    "\n",
    "t1w_im_train_path = \"/home/mariopasc/Python/Datasets/t1w-yolov8-ds/images/train\"\n",
    "t1w_im_val_path = \"/home/mariopasc/Python/Datasets/t1w-yolov8-ds/images/val\"\n",
    "t1w_label_train_path = \"/home/mariopasc/Python/Datasets/t1w-yolov8-ds/labels/train\"\n",
    "t1w_label_train_val = \"/home/mariopasc/Python/Datasets/t1w-yolov8-ds/labels/val\""
   ],
   "metadata": {
    "collapsed": false,
    "ExecuteTime": {
     "end_time": "2024-03-10T15:42:08.203806242Z",
     "start_time": "2024-03-10T15:42:08.201347397Z"
    }
   },
   "id": "448802908f0b30e9"
  },
  {
   "cell_type": "markdown",
   "source": [
    "### Data Loader - Convertir .nii.gz a imágenes PNG o JPEG2000"
   ],
   "metadata": {
    "collapsed": false
   },
   "id": "12a07edb298ec2b9"
  },
  {
   "cell_type": "code",
   "execution_count": 79,
   "outputs": [
    {
     "name": "stdout",
     "output_type": "stream",
     "text": [
      "Hold-out completed successfully.\n"
     ]
    }
   ],
   "source": [
    "# Esta función convierte un estudio nii.gz a diversas imágenes .nii, asociando como nombre de las imágenes idpaciente-slice.nii.\n",
    "# VER2: Se añade también un parámetro de entrada que es una lista de rodajas que no se deben incluir\n",
    "def convert_gz_nii(niigz_file, save_path, path_excluir, patient_id):\n",
    "    # Verificar si el archivo .nii.gz existe\n",
    "    if not os.path.isfile(niigz_file):\n",
    "        print(\"Error: Specified .nii.gz file doesn't exist.\")\n",
    "        return\n",
    "    # Creamos el vector con las rodajas a exlcuir\n",
    "    exclude_slices = []\n",
    "    # Si existe el archivo .txt, rellenamos el vector con las rodajas que hay que excluir\n",
    "    # Si no existe, se asume que se incluyen todas. \n",
    "    if os.path.isfile(path_excluir):\n",
    "        with open(path_excluir, 'r') as archivo:\n",
    "            for linea in archivo:\n",
    "                exclude_slices.append(int(linea.strip()))\n",
    "    \n",
    "    # Cargar el archivo .nii.gz\n",
    "    img = nib.load(niigz_file)\n",
    "    data = img.get_fdata()\n",
    "    # Obtener el número de rodajas\n",
    "    num_slices = data.shape[2]\n",
    "\n",
    "    # Crear el directorio de destino si no existe\n",
    "    if not os.path.exists(save_path):\n",
    "        os.makedirs(save_path)\n",
    "\n",
    "    # Iterar sobre todas las rodajas y guardarlas como imágenes .nii\n",
    "    for i in range(num_slices):\n",
    "        # Verificar si la rodaja está en la lista de exclusión\n",
    "        if i in exclude_slices:\n",
    "            continue  # Saltar esta rodaja\n",
    "\n",
    "        # Obtener una sola rodaja\n",
    "        slice_data = data[:, :, i]\n",
    "        # Crear el nombre de la imagen\n",
    "        image_name = f\"{patient_id}-{i}.nii\"\n",
    "        # Guardar la imagen .nii\n",
    "        nib.save(nib.Nifti1Image(slice_data, img.affine), os.path.join(save_path, image_name))\n",
    "\n",
    "    print(\"Process finished with exit code 0\")\n",
    "\n",
    "\n",
    "# Esta función hace uso de la anterior para convertir un estudio completo a formato .nii\n",
    "def study_to_nii(study_path, save_path, path_excluir):\n",
    "    if not os.path.exists(study_path):\n",
    "        print(\"Input file does not exist\")\n",
    "        return\n",
    "    \n",
    "    # Por cada paciente dentro del estudio\n",
    "    for patient_id in os.listdir(study_path):\n",
    "        # Comprobar si el elemento es una carpeta\n",
    "        patient_folder = os.path.join(study_path, patient_id)\n",
    "        if not os.path.isdir(patient_folder):\n",
    "            print(f\"Patient {patient_folder} not found\")\n",
    "            continue\n",
    "\n",
    "        # Extraemos el nombre de su archivo nii.gz\n",
    "        niigz_files = [path for path in os.listdir(patient_folder) if path.endswith(\".nii.gz\")]\n",
    "        if not niigz_files:\n",
    "            print(f\"No .nii.gz file found for patient {patient_id}\")\n",
    "            continue\n",
    "\n",
    "        # Asumimos que solo hay un archivo .nii.gz por paciente\n",
    "        niigz_file = os.path.join(patient_folder, niigz_files[0])\n",
    "        convert_gz_nii(niigz_file=niigz_file, save_path=save_path, patient_id=patient_id, path_excluir=path_excluir)\n",
    "\n",
    "# Esta función toma como entrada una carpeta con imágenes .nii y las guarda en la carpeta de destino en el formato especificado. \n",
    "def convert_nii_image_holdout(input_txt):\n",
    "    # Verificar si el archivo .txt existe\n",
    "    if not os.path.isfile(input_txt):\n",
    "        print(\"Input txt file does not exist.\")\n",
    "        return\n",
    "    \n",
    "    # Leer el archivo .txt\n",
    "    with open(input_txt, 'r') as file:\n",
    "        lines = file.readlines()\n",
    "    \n",
    "    # Obtener las rutas de los folders y archivos\n",
    "    nii_folder = lines[0].split(':')[1].strip()\n",
    "    train_folder = lines[1].split(':')[1].strip()\n",
    "    train_nii_files = lines[2].split(':')[1].strip()\n",
    "    val_folder = lines[3].split(':')[1].strip()\n",
    "    val_nii_files = lines[4].split(':')[1].strip()\n",
    "    test_folder = lines[5].split(':')[1].strip()\n",
    "    test_nii_files = lines[6].split(':')[1].strip()\n",
    "    imformat = lines[7].split(':')[1].strip().lower()\n",
    "    \n",
    "    # Función para convertir .nii a imagen\n",
    "    def convert_to_image(nii_files, folder):\n",
    "        for nii_file in nii_files:\n",
    "            # Cargar el archivo .nii\n",
    "            img = nib.load(os.path.join(nii_folder, nii_file))\n",
    "            data = img.get_fdata()\n",
    "\n",
    "            # Verificar si hay valores no válidos en los datos\n",
    "            if np.any(np.isnan(data)) or np.any(np.isinf(data)):\n",
    "                print(f\"Skipping {nii_file}: Invalid values encountered.\")\n",
    "                continue\n",
    "            \n",
    "            # ========== NORMALIZACIÓN PROVISIONAL ==========\n",
    "            # Normalizar los valores de píxel para que estén entre 0 y 255\n",
    "            data_normalized = ((data - np.min(data)) / (np.max(data) - np.min(data)) * 255).astype(np.uint8)\n",
    "            # ========== FIN NORMALIZACIÓN PROVISIONAL ======\n",
    "            \n",
    "            # Obtener el nombre del archivo sin la extensión .nii\n",
    "            file_name, _ = os.path.splitext(nii_file)\n",
    "            # Crear el nombre de la imagen con el formato especificado\n",
    "            image_name = f\"{file_name}.{imformat}\"\n",
    "            # Guardar la imagen en el formato especificado\n",
    "            cv.imwrite(os.path.join(folder, image_name), data_normalized)\n",
    "\n",
    "    # Obtener los nombres de archivos .nii para train, val y test\n",
    "    train_nii_files = [file.strip() for file in open(train_nii_files, 'r').readlines()]\n",
    "    val_nii_files = [file.strip() for file in open(val_nii_files, 'r').readlines()]\n",
    "    test_nii_files = [file.strip() for file in open(test_nii_files, 'r').readlines()]\n",
    "    \n",
    "    # Convertir .nii a imágenes para train, val y test\n",
    "    convert_to_image(train_nii_files, train_folder)\n",
    "    convert_to_image(val_nii_files, val_folder)\n",
    "    convert_to_image(test_nii_files, test_folder)\n",
    "\n",
    "    print(\"Process finished with exit code 0.\")\n",
    "\n",
    "# Esta función se encarga del hold out (gracias a dios que existe scikit-learn)\n",
    "def holdout_nii_images(folder_path, val_percent, test_percent, output_path):\n",
    "    # Obtener la lista de archivos .nii en la carpeta\n",
    "    nii_files = [file for file in os.listdir(folder_path) if file.endswith('.nii')]\n",
    "\n",
    "    # Dividir los nombres de los archivos en train, val y test\n",
    "    train_files, val_test_files = train_test_split(nii_files, test_size=(val_percent + test_percent), random_state=42)\n",
    "    val_files, test_files = train_test_split(val_test_files, test_size=test_percent/(val_percent + test_percent), random_state=42)\n",
    "\n",
    "    # Escribir los nombres de los archivos en archivos de texto\n",
    "    def write_to_txt(file_list, txt_path):\n",
    "        with open(txt_path, 'w') as file:\n",
    "            for file_name in file_list:\n",
    "                file.write(file_name + '\\n')\n",
    "\n",
    "    write_to_txt(train_files, os.path.join(output_path, 'train_files.txt'))\n",
    "    write_to_txt(val_files, os.path.join(output_path, 'val_files.txt'))\n",
    "    write_to_txt(test_files, os.path.join(output_path, 'test_files.txt'))\n",
    "\n",
    "    print(\"Hold-out completed successfully.\")\n",
    "\n",
    "def contours_YOLO_format(contours, height, width, output_path):\n",
    "    if len(contours) > 0:\n",
    "        with open(output_path, 'w') as f:\n",
    "            for i, contorno in enumerate(contours):\n",
    "                normalized = contorno / np.array([width, height])\n",
    "                str_contour = ' '.join([f\"{coord:.3f}\" for coord in normalized.flatten()])\n",
    "                str_contour = \"0 \" + str_contour\n",
    "                f.write(f\"{str_contour}\\n\")\n",
    "    else:\n",
    "        return\n",
    "\n",
    "def extract_roi_contours(input_txt):\n",
    "    # Verificar si el archivo .txt existe\n",
    "    if not os.path.isfile(input_txt):\n",
    "        print(\"Input txt file does not exist.\")\n",
    "        return\n",
    "\n",
    "    # Leer el archivo .txt\n",
    "    with open(input_txt, 'r') as file:\n",
    "        lines = file.readlines()\n",
    "    \n",
    "    # Obtener las rutas de los folders y archivos\n",
    "    nii_folder = lines[0].split(':')[1].strip()\n",
    "    train_folder = lines[1].split(':')[1].strip()\n",
    "    train_nii_files = lines[2].split(':')[1].strip()\n",
    "    val_folder = lines[3].split(':')[1].strip()\n",
    "    val_nii_files = lines[4].split(':')[1].strip()\n",
    "    test_folder = lines[5].split(':')[1].strip()\n",
    "    test_nii_files = lines[6].split(':')[1].strip()\n",
    "    \n",
    "    # Función para extraer y guardar contornos\n",
    "    def save_contours(nii_files, folder):\n",
    "        for nii_file in nii_files:\n",
    "            # Cargar el archivo .nii\n",
    "            img = nib.load(os.path.join(nii_folder, nii_file))\n",
    "            data = img.get_fdata()\n",
    "\n",
    "            # Obtener los contornos utilizando cv.findContours\n",
    "            contours, _ = cv.findContours(data.astype(np.uint8), cv.RETR_EXTERNAL, cv.CHAIN_APPROX_SIMPLE)\n",
    "            \n",
    "            # Obtener las dimensiones de la imagen\n",
    "            width = data.shape[0]\n",
    "            height = data.shape[1]\n",
    "\n",
    "            # Guardar los contornos en formato YOLO\n",
    "            output_path = os.path.join(folder, f\"contours_{nii_file.strip('.nii')}.txt\")\n",
    "            contours_YOLO_format(contours=contours, height=height, width=width, output_path=output_path)\n",
    "\n",
    "    # Obtener los nombres de archivos .nii para train, val y test\n",
    "    train_nii_files = [file.strip() for file in open(train_nii_files, 'r').readlines()]\n",
    "    val_nii_files = [file.strip() for file in open(val_nii_files, 'r').readlines()]\n",
    "    test_nii_files = [file.strip() for file in open(test_nii_files, 'r').readlines()]\n",
    "    \n",
    "    # Extraer y guardar contornos para train, val y test\n",
    "    save_contours(train_nii_files, train_folder)\n",
    "    save_contours(val_nii_files, val_folder)\n",
    "    save_contours(test_nii_files, test_folder)\n",
    "\n",
    "    print(\"Process finished with exit code 0.\")"
   ],
   "metadata": {
    "collapsed": false,
    "ExecuteTime": {
     "end_time": "2024-03-10T15:05:55.957147784Z",
     "start_time": "2024-03-10T15:05:55.942845731Z"
    }
   },
   "id": "68decc85abef5e2a"
  },
  {
   "cell_type": "markdown",
   "source": [
    "Workflow actual: \n",
    "\n",
    "1. Convertir el estudio dado a .nii. La carpeta del estudio dado debe tener en su interior carpetas con el nombre del paciente \"sub-00XXXX\" y, dentro de esas carpetas, debe estar el archivo .nii.gz. Se puede dar como argumento un .txt con rodajas que se excluirán de convertir a .nii. \n",
    "2. Realizar el hold-out de los datos. Los archivos .nii dedicados a train, val y test serán guardados en 3 archivos .txt. Estos archivos serán recibidos como entrada en la función que convierte los archivos .nii a PNG (paso 3) y las redirigirá a sus respectivas carpetas. \n",
    "3. Convertir el estudio en .nii a un formato sin pérdidas. Se ha implementado una normalización provisional dentro de este método. En un futuro, cuando se aplique un preprocesamiento a las rodajas del archivo .nii.gz, esta normalización ya vendrá dada. \n",
    "\n",
    "**Detalles**\n",
    "\n",
    "- La función que se encarga de convertir las imágenes a PNG y moverlas a los directorios de train/val/test especificados por el holdout recibe como entrada un archivo .txt con los detalles de todos los paths donde puede encontrar la información. Este txt debe tener un formato como:\n",
    "```bash\n",
    "niiFolder: /home/mariopasc/Python/Datasets/ds-epilepsy/T2flair-study-nii\n",
    "trainFolder: /home/mariopasc/Python/Datasets/t2flair-yolov8-ds/images/train\n",
    "trainNiiFiles: /home/mariopasc/Python/Projects/BSC_final/epilepsy-displasia-focal-segmentation/text-info-files/t2flair-study/holdout/train_files.txt\n",
    "valFolder: /home/mariopasc/Python/Datasets/t2flair-yolov8-ds/images/val\n",
    "valNiiFIles: /home/mariopasc/Python/Projects/BSC_final/epilepsy-displasia-focal-segmentation/text-info-files/t2flair-study/holdout/val_files.txt\n",
    "testFolder: /home/mariopasc/Python/Datasets/t2flair-yolov8-ds/images/test\n",
    "testNiiFiles: /home/mariopasc/Python/Projects/BSC_final/epilepsy-displasia-focal-segmentation/text-info-files/t2flair-study/holdout/test_files.txt\n",
    "format: PNG\n",
    "```"
   ],
   "metadata": {
    "collapsed": false
   },
   "id": "9fbaf06981bcbad"
  },
  {
   "cell_type": "markdown",
   "source": [
    "#### Workflow - IMÁGENES del estudio T2-FLAIR"
   ],
   "metadata": {
    "collapsed": false
   },
   "id": "bc9c3dbbe5e9dd2c"
  },
  {
   "cell_type": "code",
   "execution_count": null,
   "outputs": [],
   "source": [
    "\"\"\"\n",
    "# Primero tener que convertir nuestro estudio a ficheros .nii atómicos para cada imagen\n",
    "study_to_nii(study_path= t2flair_path,\n",
    "             save_path=t2flair_nii_path,\n",
    "             path_excluir=slices_excluir)\n",
    "\n",
    "\n",
    "# Ahora, dado esa carpeta con los ficheros, le realizamos un holdout y guardamos los archivos .txt train val y test en una carpeta\n",
    "holdout_nii_images(folder_path=t2flair_nii_path,\n",
    "                   val_percent=0.3,\n",
    "                   test_percent=0.1,\n",
    "                   output_path=\"/home/mariopasc/Python/Projects/BSC_final/epilepsy-displasia-focal-segmentation/text-info-files/t2flair-study/holdout\")\n",
    "\n",
    "\n",
    "# Finalmente, damos:\n",
    "# 1. La carpeta con las imágenes .nii\n",
    "# 2. La ruta a los ficheros .txt que están destinados a train, a val o a test\n",
    "# 3. El formato que compresión que queremos\n",
    "convert_nii_image_holdout(input_txt= \"/home/mariopasc/Python/Projects/BSC_final/epilepsy-displasia-focal-segmentation/text-info-files/t2flair-study/specifications/images.txt\")\n",
    "\"\"\""
   ],
   "metadata": {
    "collapsed": false
   },
   "id": "4ff8109e7819c645"
  },
  {
   "cell_type": "markdown",
   "source": [
    "#### Workflow - LABELS del estudio T2-FLAIR"
   ],
   "metadata": {
    "collapsed": false
   },
   "id": "884dfe07603f1401"
  },
  {
   "cell_type": "code",
   "execution_count": null,
   "outputs": [],
   "source": [
    "\"\"\"\n",
    "# Primero tener que convertir nuestro estudio a ficheros .nii atómicos para cada imagen\n",
    "study_to_nii(study_path= roi_path,\n",
    "             save_path=roi_nii_path,\n",
    "             path_excluir=slices_excluir)\n",
    "extract_roi_contours(input_txt=\"/home/mariopasc/Python/Projects/BSC_final/epilepsy-displasia-focal-segmentation/text-info-files/t2flair-study/specifications/labels.txt\")\n",
    "\"\"\""
   ],
   "metadata": {
    "collapsed": false
   },
   "id": "89619377932a24ef"
  },
  {
   "cell_type": "markdown",
   "source": [
    "#### Comprobación"
   ],
   "metadata": {
    "collapsed": false
   },
   "id": "bb50fb357fb4044c"
  },
  {
   "cell_type": "code",
   "execution_count": 94,
   "outputs": [
    {
     "name": "stdout",
     "output_type": "stream",
     "text": [
      "Archivos faltantes en la carpeta de entrenamiento:\n",
      "{'sub-00077-216.txt', 'sub-00077-204.txt', 'sub-00107-198.txt', 'sub-00095-161.txt', 'sub-00055-183.txt', 'sub-00115-183.txt', 'sub-00128-157.txt', 'sub-00016-194.txt', 'sub-00060-147.txt', 'sub-00078-206.txt', 'sub-00138-175.txt', 'sub-00059-174.txt', 'sub-00063-141.txt', 'sub-00003-172.txt', 'sub-00105-170.txt', 'sub-00136-180.txt', 'sub-00004-155.txt', 'sub-00083-160.txt', 'sub-00131-164.txt', 'sub-00091-161.txt', 'sub-00125-198.txt', 'sub-00040-150.txt', 'sub-00101-162.txt', 'sub-00125-210.txt', 'sub-00047-182.txt', 'sub-00144-157.txt', 'sub-00128-172.txt', 'sub-00123-178.txt', 'sub-00034-170.txt', 'sub-00131-178.txt', 'sub-00122-158.txt', 'sub-00140-194.txt', 'sub-00144-145.txt', 'sub-00092-146.txt', 'sub-00044-153.txt', 'sub-00125-191.txt', 'sub-00064-142.txt', 'sub-00058-194.txt', 'sub-00089-146.txt', 'sub-00016-167.txt', 'sub-00064-144.txt', 'sub-00010-151.txt', 'sub-00090-138.txt', 'sub-00138-143.txt', 'sub-00146-161.txt', 'sub-00121-136.txt', 'sub-00010-152.txt', 'sub-00055-197.txt', 'sub-00083-159.txt', 'sub-00123-155.txt', 'sub-00128-188.txt', 'sub-00138-187.txt', 'sub-00020-176.txt', 'sub-00048-162.txt', 'sub-00015-139.txt', 'sub-00040-148.txt', 'sub-00103-145.txt', 'sub-00141-175.txt', 'sub-00097-162.txt', 'sub-00077-194.txt', 'sub-00144-167.txt', 'sub-00138-146.txt', 'sub-00125-190.txt', 'sub-00040-127.txt', 'sub-00004-149.txt', 'sub-00090-157.txt', 'sub-00064-150.txt', 'sub-00047-187.txt', 'sub-00064-149.txt', 'sub-00144-160.txt', 'sub-00059-150.txt', 'sub-00132-182.txt', 'sub-00010-162.txt', 'sub-00140-199.txt', 'sub-00040-133.txt', 'sub-00090-161.txt', 'sub-00072-168.txt', 'sub-00003-158.txt', 'sub-00064-157.txt', 'sub-00010-165.txt', 'sub-00097-156.txt', 'sub-00066-157.txt', 'sub-00098-144.txt', 'sub-00123-166.txt', 'sub-00105-162.txt', 'sub-00044-152.txt', 'sub-00040-131.txt', 'sub-00058-181.txt', 'sub-00066-154.txt', 'sub-00077-196.txt', 'sub-00010-145.txt', 'sub-00132-178.txt', 'sub-00078-202.txt', 'sub-00040-125.txt', 'sub-00131-179.txt', 'sub-00059-153.txt', 'sub-00140-185.txt', 'sub-00043-130.txt', 'sub-00050-164.txt', 'sub-00105-168.txt', 'sub-00055-159.txt', 'sub-00132-187.txt', 'sub-00136-160.txt', 'sub-00126-208.txt', 'sub-00015-131.txt', 'sub-00047-203.txt', 'sub-00132-191.txt', 'sub-00059-149.txt', 'sub-00128-161.txt', 'sub-00101-150.txt', 'sub-00015-141.txt', 'sub-00034-176.txt', 'sub-00061-176.txt', 'sub-00128-165.txt', 'sub-00020-160.txt', 'sub-00109-158.txt', 'sub-00092-144.txt', 'sub-00064-152.txt', 'sub-00132-186.txt', 'sub-00072-175.txt', 'sub-00071-152.txt', 'sub-00050-152.txt', 'sub-00060-145.txt', 'sub-00107-190.txt', 'sub-00136-165.txt', 'sub-00132-195.txt', 'sub-00033-172.txt', 'sub-00128-163.txt', 'sub-00003-177.txt', 'sub-00107-181.txt', 'sub-00064-130.txt', 'sub-00020-177.txt', 'sub-00128-179.txt', 'sub-00126-180.txt', 'sub-00081-149.txt', 'sub-00080-184.txt', 'sub-00125-179.txt', 'sub-00107-196.txt', 'sub-00091-157.txt', 'sub-00072-164.txt', 'sub-00078-201.txt', 'sub-00068-211.txt', 'sub-00125-197.txt', 'sub-00059-148.txt', 'sub-00072-171.txt', 'sub-00128-156.txt', 'sub-00107-173.txt', 'sub-00060-142.txt', 'sub-00132-179.txt', 'sub-00058-209.txt', 'sub-00115-179.txt', 'sub-00060-133.txt', 'sub-00138-183.txt', 'sub-00061-161.txt', 'sub-00090-159.txt', 'sub-00089-132.txt', 'sub-00060-151.txt', 'sub-00091-163.txt', 'sub-00048-152.txt', 'sub-00016-190.txt', 'sub-00089-141.txt', 'sub-00078-193.txt', 'sub-00032-159.txt', 'sub-00132-176.txt', 'sub-00136-163.txt', 'sub-00047-196.txt', 'sub-00076-161.txt', 'sub-00040-151.txt', 'sub-00010-159.txt', 'sub-00125-201.txt', 'sub-00038-169.txt', 'sub-00001-146.txt', 'sub-00105-165.txt', 'sub-00059-173.txt', 'sub-00055-182.txt', 'sub-00003-171.txt', 'sub-00145-148.txt', 'sub-00087-163.txt', 'sub-00116-135.txt', 'sub-00138-150.txt', 'sub-00128-166.txt', 'sub-00003-144.txt', 'sub-00100-177.txt', 'sub-00138-181.txt', 'sub-00140-197.txt', 'sub-00055-175.txt', 'sub-00087-169.txt', 'sub-00145-152.txt', 'sub-00080-182.txt', 'sub-00128-184.txt', 'sub-00095-153.txt', 'sub-00090-167.txt', 'sub-00066-172.txt', 'sub-00131-173.txt', 'sub-00071-165.txt', 'sub-00134-175.txt', 'sub-00003-182.txt', 'sub-00081-154.txt', 'sub-00047-190.txt', 'sub-00097-170.txt', 'sub-00016-192.txt', 'sub-00076-163.txt', 'sub-00061-163.txt', 'sub-00140-190.txt', 'sub-00123-153.txt', 'sub-00010-140.txt', 'sub-00123-168.txt', 'sub-00100-174.txt', 'sub-00043-145.txt', 'sub-00050-163.txt', 'sub-00071-163.txt', 'sub-00003-170.txt', 'sub-00128-162.txt', 'sub-00020-191.txt', 'sub-00081-151.txt', 'sub-00038-176.txt', 'sub-00103-148.txt', 'sub-00100-157.txt', 'sub-00100-161.txt', 'sub-00089-148.txt', 'sub-00055-200.txt', 'sub-00092-148.txt', 'sub-00116-134.txt', 'sub-00116-138.txt', 'sub-00101-155.txt', 'sub-00061-166.txt', 'sub-00087-161.txt', 'sub-00123-158.txt', 'sub-00090-134.txt', 'sub-00142-168.txt', 'sub-00090-139.txt', 'sub-00058-211.txt', 'sub-00033-167.txt', 'sub-00131-168.txt', 'sub-00097-172.txt', 'sub-00064-140.txt', 'sub-00059-172.txt', 'sub-00068-203.txt', 'sub-00098-146.txt', 'sub-00077-203.txt', 'sub-00020-173.txt', 'sub-00109-161.txt', 'sub-00064-146.txt', 'sub-00136-162.txt', 'sub-00047-200.txt', 'sub-00126-195.txt', 'sub-00061-174.txt', 'sub-00109-159.txt', 'sub-00064-141.txt', 'sub-00126-201.txt', 'sub-00066-162.txt', 'sub-00128-155.txt', 'sub-00098-136.txt', 'sub-00076-159.txt', 'sub-00128-176.txt', 'sub-00014-124.txt', 'sub-00097-160.txt', 'sub-00040-141.txt', 'sub-00077-205.txt', 'sub-00055-184.txt', 'sub-00072-167.txt', 'sub-00032-163.txt', 'sub-00134-172.txt', 'sub-00061-149.txt', 'sub-00123-151.txt', 'sub-00034-179.txt', 'sub-00138-176.txt', 'sub-00131-174.txt', 'sub-00010-135.txt', 'sub-00123-152.txt', 'sub-00122-152.txt', 'sub-00001-131.txt', 'sub-00040-143.txt', 'sub-00015-130.txt', 'sub-00097-157.txt', 'sub-00141-183.txt', 'sub-00141-168.txt', 'sub-00142-172.txt', 'sub-00059-155.txt', 'sub-00050-167.txt', 'sub-00109-165.txt', 'sub-00032-176.txt', 'sub-00141-182.txt', 'sub-00090-164.txt', 'sub-00077-219.txt', 'sub-00109-167.txt', 'sub-00043-144.txt', 'sub-00100-163.txt', 'sub-00020-188.txt', 'sub-00038-195.txt', 'sub-00061-158.txt', 'sub-00078-186.txt', 'sub-00131-172.txt', 'sub-00040-154.txt', 'sub-00126-194.txt', 'sub-00064-156.txt', 'sub-00003-179.txt', 'sub-00128-154.txt', 'sub-00076-171.txt', 'sub-00131-182.txt', 'sub-00009-129.txt', 'sub-00010-161.txt', 'sub-00009-132.txt', 'sub-00068-201.txt', 'sub-00003-175.txt', 'sub-00138-156.txt', 'sub-00058-191.txt', 'sub-00131-183.txt', 'sub-00121-133.txt', 'sub-00122-159.txt', 'sub-00083-162.txt', 'sub-00063-123.txt', 'sub-00062-160.txt', 'sub-00140-201.txt', 'sub-00121-147.txt', 'sub-00055-160.txt', 'sub-00136-178.txt', 'sub-00090-162.txt', 'sub-00010-148.txt', 'sub-00095-154.txt', 'sub-00060-141.txt', 'sub-00048-148.txt', 'sub-00020-167.txt', 'sub-00071-167.txt', 'sub-00142-161.txt', 'sub-00097-163.txt', 'sub-00062-159.txt', 'sub-00014-125.txt', 'sub-00077-209.txt', 'sub-00009-131.txt', 'sub-00131-185.txt', 'sub-00003-174.txt', 'sub-00107-178.txt', 'sub-00016-184.txt', 'sub-00125-181.txt', 'sub-00047-204.txt', 'sub-00006-164.txt', 'sub-00140-192.txt', 'sub-00050-153.txt', 'sub-00121-141.txt', 'sub-00077-206.txt', 'sub-00126-191.txt', 'sub-00058-180.txt', 'sub-00076-167.txt', 'sub-00138-186.txt', 'sub-00090-142.txt', 'sub-00144-164.txt', 'sub-00063-130.txt', 'sub-00066-171.txt', 'sub-00050-162.txt', 'sub-00015-133.txt', 'sub-00016-168.txt', 'sub-00063-132.txt', 'sub-00032-172.txt', 'sub-00060-138.txt', 'sub-00043-138.txt', 'sub-00092-147.txt', 'sub-00122-151.txt', 'sub-00068-207.txt', 'sub-00047-177.txt', 'sub-00015-143.txt', 'sub-00015-128.txt', 'sub-00043-129.txt', 'sub-00071-160.txt', 'sub-00140-193.txt', 'sub-00100-158.txt', 'sub-00073-160.txt', 'sub-00055-161.txt', 'sub-00109-155.txt', 'sub-00123-169.txt', 'sub-00126-192.txt', 'sub-00081-150.txt', 'sub-00020-181.txt', 'sub-00107-194.txt', 'sub-00016-157.txt', 'sub-00128-170.txt', 'sub-00001-144.txt', 'sub-00064-135.txt', 'sub-00146-151.txt', 'sub-00125-205.txt', 'sub-00038-174.txt', 'sub-00138-165.txt', 'sub-00128-190.txt', 'sub-00064-170.txt', 'sub-00055-193.txt', 'sub-00141-184.txt', 'sub-00064-124.txt', 'sub-00010-163.txt', 'sub-00125-189.txt', 'sub-00125-196.txt', 'sub-00126-204.txt', 'sub-00121-129.txt', 'sub-00033-168.txt', 'sub-00055-181.txt', 'sub-00071-154.txt', 'sub-00003-168.txt', 'sub-00083-163.txt', 'sub-00063-131.txt', 'sub-00095-146.txt', 'sub-00034-172.txt', 'sub-00032-164.txt', 'sub-00055-157.txt', 'sub-00063-146.txt', 'sub-00059-156.txt', 'sub-00077-195.txt', 'sub-00083-152.txt', 'sub-00145-147.txt', 'sub-00038-172.txt', 'sub-00032-180.txt', 'sub-00038-189.txt', 'sub-00109-177.txt', 'sub-00095-159.txt', 'sub-00015-126.txt', 'sub-00064-138.txt', 'sub-00020-171.txt', 'sub-00101-161.txt', 'sub-00015-140.txt', 'sub-00048-158.txt', 'sub-00072-170.txt', 'sub-00064-171.txt', 'sub-00047-188.txt', 'sub-00061-165.txt', 'sub-00141-169.txt', 'sub-00043-141.txt', 'sub-00136-168.txt', 'sub-00092-143.txt', 'sub-00058-214.txt', 'sub-00063-148.txt', 'sub-00132-196.txt', 'sub-00024-151.txt', 'sub-00144-152.txt', 'sub-00090-145.txt', 'sub-00121-132.txt', 'sub-00063-145.txt', 'sub-00058-188.txt', 'sub-00032-171.txt', 'sub-00016-173.txt', 'sub-00014-126.txt', 'sub-00010-131.txt', 'sub-00092-161.txt', 'sub-00077-213.txt', 'sub-00033-170.txt', 'sub-00078-181.txt', 'sub-00115-189.txt', 'sub-00064-139.txt', 'sub-00090-156.txt', 'sub-00108-123.txt', 'sub-00123-175.txt', 'sub-00048-157.txt', 'sub-00138-161.txt', 'sub-00068-216.txt', 'sub-00040-126.txt', 'sub-00100-169.txt', 'sub-00115-176.txt', 'sub-00050-157.txt', 'sub-00071-170.txt', 'sub-00040-123.txt', 'sub-00063-129.txt', 'sub-00032-165.txt', 'sub-00090-143.txt', 'sub-00092-151.txt', 'sub-00068-219.txt', 'sub-00090-149.txt', 'sub-00015-137.txt', 'sub-00081-148.txt', 'sub-00003-180.txt', 'sub-00055-169.txt', 'sub-00043-135.txt', 'sub-00095-156.txt', 'sub-00133-121.txt', 'sub-00134-189.txt', 'sub-00032-181.txt', 'sub-00063-150.txt', 'sub-00144-162.txt', 'sub-00100-164.txt', 'sub-00016-178.txt', 'sub-00121-143.txt', 'sub-00121-137.txt', 'sub-00134-178.txt', 'sub-00001-134.txt', 'sub-00133-141.txt', 'sub-00047-197.txt', 'sub-00136-177.txt', 'sub-00107-182.txt', 'sub-00138-145.txt', 'sub-00146-150.txt', 'sub-00064-165.txt', 'sub-00134-180.txt', 'sub-00138-177.txt', 'sub-00078-187.txt', 'sub-00020-166.txt', 'sub-00125-193.txt', 'sub-00103-160.txt', 'sub-00123-176.txt', 'sub-00020-172.txt', 'sub-00043-148.txt', 'sub-00098-131.txt', 'sub-00015-124.txt', 'sub-00097-167.txt', 'sub-00123-172.txt', 'sub-00078-188.txt', 'sub-00122-147.txt', 'sub-00066-165.txt', 'sub-00123-165.txt', 'sub-00004-146.txt', 'sub-00064-121.txt', 'sub-00144-156.txt', 'sub-00134-193.txt', 'sub-00072-174.txt', 'sub-00044-157.txt', 'sub-00043-137.txt', 'sub-00059-158.txt', 'sub-00078-192.txt', 'sub-00133-127.txt', 'sub-00133-135.txt', 'sub-00123-167.txt', 'sub-00004-154.txt', 'sub-00125-204.txt', 'sub-00014-127.txt', 'sub-00080-185.txt', 'sub-00010-130.txt', 'sub-00101-163.txt', 'sub-00058-177.txt', 'sub-00144-159.txt', 'sub-00097-174.txt', 'sub-00001-139.txt', 'sub-00138-148.txt', 'sub-00073-162.txt', 'sub-00109-171.txt', 'sub-00100-162.txt', 'sub-00109-179.txt', 'sub-00103-158.txt', 'sub-00125-199.txt', 'sub-00140-202.txt', 'sub-00134-179.txt', 'sub-00062-167.txt', 'sub-00009-134.txt', 'sub-00038-184.txt', 'sub-00136-155.txt', 'sub-00142-170.txt', 'sub-00063-142.txt', 'sub-00064-125.txt', 'sub-00136-173.txt', 'sub-00101-158.txt', 'sub-00015-142.txt', 'sub-00048-153.txt', 'sub-00060-153.txt', 'sub-00080-179.txt', 'sub-00145-143.txt', 'sub-00122-148.txt', 'sub-00061-175.txt', 'sub-00010-164.txt', 'sub-00144-149.txt', 'sub-00063-140.txt', 'sub-00038-185.txt', 'sub-00077-215.txt', 'sub-00004-147.txt', 'sub-00131-177.txt', 'sub-00055-180.txt', 'sub-00095-149.txt', 'sub-00142-160.txt', 'sub-00010-139.txt', 'sub-00132-193.txt', 'sub-00072-173.txt', 'sub-00090-155.txt', 'sub-00138-168.txt', 'sub-00142-171.txt', 'sub-00063-149.txt', 'sub-00131-181.txt', 'sub-00071-155.txt', 'sub-00050-169.txt', 'sub-00133-140.txt', 'sub-00142-175.txt', 'sub-00138-180.txt', 'sub-00015-127.txt', 'sub-00098-135.txt', 'sub-00116-133.txt', 'sub-00068-202.txt', 'sub-00048-154.txt', 'sub-00050-166.txt', 'sub-00059-162.txt', 'sub-00016-191.txt', 'sub-00136-179.txt', 'sub-00050-158.txt', 'sub-00132-189.txt', 'sub-00077-211.txt', 'sub-00115-177.txt', 'sub-00024-153.txt', 'sub-00092-141.txt', 'sub-00109-166.txt', 'sub-00123-177.txt', 'sub-00064-122.txt', 'sub-00010-132.txt', 'sub-00125-200.txt', 'sub-00055-186.txt', 'sub-00105-161.txt', 'sub-00103-146.txt', 'sub-00064-168.txt', 'sub-00058-195.txt', 'sub-00103-142.txt', 'sub-00071-164.txt', 'sub-00043-142.txt', 'sub-00077-198.txt', 'sub-00107-195.txt', 'sub-00033-175.txt', 'sub-00059-168.txt', 'sub-00128-151.txt', 'sub-00144-147.txt', 'sub-00080-172.txt', 'sub-00032-156.txt', 'sub-00068-206.txt', 'sub-00083-156.txt', 'sub-00134-190.txt', 'sub-00076-172.txt', 'sub-00078-190.txt', 'sub-00060-140.txt', 'sub-00016-163.txt', 'sub-00055-158.txt', 'sub-00065-138.txt', 'sub-00109-153.txt', 'sub-00064-163.txt', 'sub-00115-185.txt', 'sub-00040-134.txt', 'sub-00144-163.txt', 'sub-00016-161.txt', 'sub-00044-164.txt', 'sub-00065-139.txt', 'sub-00063-153.txt', 'sub-00001-141.txt', 'sub-00144-146.txt', 'sub-00064-134.txt', 'sub-00121-131.txt', 'sub-00101-167.txt', 'sub-00121-139.txt', 'sub-00016-177.txt', 'sub-00100-167.txt', 'sub-00061-160.txt', 'sub-00020-183.txt', 'sub-00138-172.txt', 'sub-00020-168.txt', 'sub-00132-185.txt', 'sub-00126-182.txt', 'sub-00047-191.txt', 'sub-00133-133.txt', 'sub-00058-197.txt', 'sub-00115-180.txt', 'sub-00138-163.txt', 'sub-00133-139.txt', 'sub-00087-158.txt', 'sub-00043-143.txt', 'sub-00001-140.txt', 'sub-00078-189.txt', 'sub-00097-164.txt', 'sub-00142-188.txt', 'sub-00064-169.txt', 'sub-00032-169.txt', 'sub-00133-128.txt', 'sub-00097-154.txt', 'sub-00004-145.txt', 'sub-00062-158.txt', 'sub-00010-137.txt', 'sub-00080-170.txt', 'sub-00059-167.txt', 'sub-00144-165.txt', 'sub-00105-159.txt', 'sub-00064-128.txt', 'sub-00065-135.txt', 'sub-00038-191.txt', 'sub-00100-175.txt', 'sub-00033-180.txt', 'sub-00142-169.txt', 'sub-00073-168.txt', 'sub-00131-166.txt', 'sub-00003-162.txt', 'sub-00060-131.txt', 'sub-00142-177.txt', 'sub-00140-188.txt', 'sub-00006-161.txt', 'sub-00131-180.txt', 'sub-00043-134.txt', 'sub-00136-164.txt', 'sub-00016-193.txt', 'sub-00020-186.txt', 'sub-00078-185.txt', 'sub-00033-178.txt', 'sub-00066-152.txt', 'sub-00101-156.txt', 'sub-00121-135.txt', 'sub-00061-169.txt', 'sub-00108-121.txt', 'sub-00060-157.txt', 'sub-00115-193.txt', 'sub-00134-181.txt', 'sub-00059-170.txt', 'sub-00010-160.txt', 'sub-00015-132.txt', 'sub-00081-152.txt', 'sub-00133-136.txt', 'sub-00044-150.txt', 'sub-00058-183.txt', 'sub-00141-167.txt', 'sub-00064-137.txt', 'sub-00089-136.txt', 'sub-00047-208.txt', 'sub-00141-170.txt', 'sub-00116-132.txt', 'sub-00092-142.txt', 'sub-00059-169.txt', 'sub-00089-135.txt', 'sub-00132-202.txt', 'sub-00140-184.txt', 'sub-00142-173.txt', 'sub-00095-151.txt', 'sub-00050-159.txt', 'sub-00132-181.txt', 'sub-00072-172.txt', 'sub-00092-150.txt', 'sub-00132-190.txt', 'sub-00061-154.txt', 'sub-00001-145.txt', 'sub-00087-156.txt', 'sub-00064-166.txt', 'sub-00132-198.txt', 'sub-00047-202.txt', 'sub-00003-154.txt', 'sub-00010-144.txt', 'sub-00103-155.txt', 'sub-00105-173.txt', 'sub-00131-159.txt', 'sub-00103-164.txt', 'sub-00060-137.txt', 'sub-00061-155.txt', 'sub-00006-165.txt', 'sub-00059-175.txt', 'sub-00043-147.txt', 'sub-00060-129.txt', 'sub-00123-161.txt', 'sub-00133-124.txt', 'sub-00050-168.txt', 'sub-00132-183.txt', 'sub-00003-166.txt', 'sub-00122-157.txt', 'sub-00050-165.txt', 'sub-00103-151.txt', 'sub-00126-188.txt', 'sub-00073-161.txt', 'sub-00132-199.txt', 'sub-00095-162.txt', 'sub-00047-178.txt', 'sub-00128-180.txt', 'sub-00003-164.txt', 'sub-00134-173.txt', 'sub-00061-164.txt', 'sub-00122-167.txt', 'sub-00132-201.txt', 'sub-00123-163.txt', 'sub-00138-160.txt', 'sub-00068-197.txt', 'sub-00101-160.txt', 'sub-00006-163.txt', 'sub-00142-179.txt', 'sub-00123-154.txt', 'sub-00034-174.txt', 'sub-00034-178.txt', 'sub-00050-172.txt', 'sub-00141-179.txt', 'sub-00014-122.txt', 'sub-00061-162.txt', 'sub-00032-175.txt', 'sub-00103-156.txt', 'sub-00038-196.txt', 'sub-00071-168.txt', 'sub-00109-154.txt', 'sub-00128-182.txt', 'sub-00090-141.txt', 'sub-00004-140.txt', 'sub-00142-162.txt', 'sub-00101-152.txt', 'sub-00016-196.txt', 'sub-00090-152.txt', 'sub-00128-177.txt', 'sub-00138-184.txt', 'sub-00047-199.txt', 'sub-00100-154.txt', 'sub-00016-164.txt', 'sub-00060-136.txt', 'sub-00087-170.txt', 'sub-00141-173.txt', 'sub-00133-126.txt', 'sub-00087-171.txt', 'sub-00055-196.txt', 'sub-00016-165.txt', 'sub-00145-144.txt', 'sub-00024-147.txt', 'sub-00068-215.txt', 'sub-00066-159.txt', 'sub-00015-129.txt', 'sub-00059-159.txt', 'sub-00115-190.txt', 'sub-00101-151.txt', 'sub-00032-160.txt', 'sub-00138-144.txt', 'sub-00142-184.txt', 'sub-00121-144.txt', 'sub-00138-173.txt', 'sub-00009-128.txt', 'sub-00015-144.txt', 'sub-00128-183.txt', 'sub-00090-150.txt', 'sub-00066-155.txt', 'sub-00122-166.txt', 'sub-00058-198.txt', 'sub-00089-137.txt', 'sub-00078-203.txt', 'sub-00083-158.txt', 'sub-00016-186.txt', 'sub-00073-170.txt', 'sub-00116-128.txt', 'sub-00058-203.txt', 'sub-00091-155.txt', 'sub-00004-142.txt', 'sub-00055-199.txt', 'sub-00134-197.txt', 'sub-00063-135.txt', 'sub-00043-140.txt', 'sub-00134-182.txt', 'sub-00059-166.txt', 'sub-00103-153.txt', 'sub-00010-146.txt', 'sub-00040-155.txt', 'sub-00034-175.txt', 'sub-00146-162.txt', 'sub-00138-159.txt', 'sub-00048-155.txt', 'sub-00048-147.txt', 'sub-00047-195.txt', 'sub-00087-167.txt', 'sub-00033-174.txt', 'sub-00073-163.txt', 'sub-00081-159.txt', 'sub-00003-183.txt', 'sub-00132-180.txt', 'sub-00122-161.txt', 'sub-00040-147.txt', 'sub-00010-128.txt', 'sub-00071-151.txt', 'sub-00058-178.txt', 'sub-00061-152.txt', 'sub-00089-134.txt', 'sub-00131-161.txt', 'sub-00097-158.txt', 'sub-00034-177.txt', 'sub-00004-143.txt', 'sub-00100-155.txt', 'sub-00060-152.txt', 'sub-00004-153.txt', 'sub-00138-185.txt', 'sub-00064-148.txt', 'sub-00122-149.txt', 'sub-00141-171.txt', 'sub-00040-138.txt', 'sub-00138-155.txt', 'sub-00081-155.txt', 'sub-00109-173.txt', 'sub-00133-130.txt', 'sub-00055-166.txt', 'sub-00105-167.txt', 'sub-00101-159.txt', 'sub-00038-199.txt', 'sub-00010-157.txt', 'sub-00092-153.txt', 'sub-00095-150.txt', 'sub-00024-145.txt', 'sub-00138-142.txt', 'sub-00138-167.txt', 'sub-00141-177.txt', 'sub-00116-129.txt', 'sub-00066-163.txt', 'sub-00076-160.txt', 'sub-00055-194.txt', 'sub-00138-158.txt', 'sub-00116-121.txt', 'sub-00122-169.txt', 'sub-00047-185.txt', 'sub-00125-203.txt', 'sub-00033-177.txt', 'sub-00058-204.txt', 'sub-00101-157.txt', 'sub-00145-146.txt', 'sub-00040-135.txt', 'sub-00142-185.txt', 'sub-00062-165.txt', 'sub-00144-158.txt', 'sub-00001-133.txt', 'sub-00066-168.txt', 'sub-00048-156.txt', 'sub-00134-176.txt', 'sub-00063-121.txt', 'sub-00055-162.txt', 'sub-00047-194.txt', 'sub-00138-157.txt', 'sub-00090-163.txt', 'sub-00044-154.txt', 'sub-00024-152.txt', 'sub-00068-212.txt', 'sub-00058-201.txt', 'sub-00071-169.txt', 'sub-00098-134.txt', 'sub-00091-159.txt', 'sub-00003-153.txt', 'sub-00141-186.txt', 'sub-00044-165.txt', 'sub-00091-164.txt', 'sub-00060-130.txt', 'sub-00062-164.txt', 'sub-00032-170.txt', 'sub-00064-160.txt', 'sub-00146-152.txt', 'sub-00107-174.txt', 'sub-00076-165.txt', 'sub-00134-174.txt', 'sub-00121-142.txt', 'sub-00010-155.txt', 'sub-00098-132.txt', 'sub-00091-162.txt', 'sub-00040-121.txt', 'sub-00032-157.txt', 'sub-00125-180.txt', 'sub-00038-192.txt', 'sub-00134-192.txt', 'sub-00103-161.txt', 'sub-00100-170.txt', 'sub-00145-151.txt', 'sub-00010-154.txt', 'sub-00001-130.txt', 'sub-00063-151.txt', 'sub-00125-207.txt', 'sub-00071-157.txt', 'sub-00109-176.txt', 'sub-00003-169.txt', 'sub-00014-121.txt', 'sub-00123-164.txt', 'sub-00072-166.txt', 'sub-00043-133.txt', 'sub-00034-169.txt', 'sub-00001-142.txt', 'sub-00064-162.txt', 'sub-00058-208.txt', 'sub-00101-149.txt', 'sub-00020-162.txt', 'sub-00055-185.txt', 'sub-00066-169.txt', 'sub-00060-154.txt', 'sub-00132-204.txt', 'sub-00047-181.txt', 'sub-00100-168.txt', 'sub-00092-163.txt', 'sub-00107-188.txt', 'sub-00107-184.txt', 'sub-00040-137.txt', 'sub-00038-190.txt', 'sub-00065-142.txt', 'sub-00092-154.txt', 'sub-00010-142.txt', 'sub-00068-213.txt', 'sub-00014-129.txt', 'sub-00016-162.txt', 'sub-00068-198.txt', 'sub-00090-158.txt', 'sub-00098-137.txt', 'sub-00078-197.txt', 'sub-00004-141.txt', 'sub-00064-131.txt', 'sub-00083-157.txt', 'sub-00073-158.txt', 'sub-00131-163.txt', 'sub-00010-156.txt', 'sub-00115-197.txt', 'sub-00140-203.txt', 'sub-00066-151.txt', 'sub-00062-156.txt', 'sub-00098-125.txt', 'sub-00145-145.txt', 'sub-00060-128.txt', 'sub-00073-165.txt', 'sub-00109-156.txt', 'sub-00122-160.txt', 'sub-00020-178.txt', 'sub-00136-157.txt', 'sub-00100-172.txt', 'sub-00131-165.txt', 'sub-00125-208.txt', 'sub-00048-149.txt', 'sub-00078-198.txt', 'sub-00061-179.txt', 'sub-00016-176.txt', 'sub-00032-167.txt', 'sub-00138-162.txt', 'sub-00098-143.txt', 'sub-00103-157.txt', 'sub-00064-132.txt', 'sub-00126-199.txt', 'sub-00063-137.txt', 'sub-00004-148.txt', 'sub-00116-136.txt', 'sub-00055-170.txt', 'sub-00109-164.txt', 'sub-00134-185.txt', 'sub-00090-154.txt', 'sub-00087-168.txt', 'sub-00024-150.txt', 'sub-00090-148.txt', 'sub-00131-186.txt', 'sub-00024-149.txt', 'sub-00107-183.txt', 'sub-00009-125.txt', 'sub-00115-196.txt', 'sub-00003-160.txt', 'sub-00098-142.txt', 'sub-00109-163.txt', 'sub-00140-183.txt', 'sub-00131-169.txt', 'sub-00097-175.txt', 'sub-00016-179.txt', 'sub-00038-182.txt', 'sub-00122-150.txt', 'sub-00063-133.txt', 'sub-00040-146.txt', 'sub-00083-164.txt', 'sub-00080-180.txt', 'sub-00142-183.txt', 'sub-00003-167.txt', 'sub-00038-198.txt', 'sub-00107-191.txt', 'sub-00138-170.txt', 'sub-00125-206.txt', 'sub-00020-180.txt', 'sub-00055-167.txt', 'sub-00095-152.txt', 'sub-00016-183.txt', 'sub-00097-166.txt', 'sub-00134-186.txt', 'sub-00115-199.txt', 'sub-00126-184.txt', 'sub-00066-156.txt', 'sub-00123-157.txt', 'sub-00009-127.txt', 'sub-00092-159.txt', 'sub-00058-200.txt', 'sub-00142-176.txt', 'sub-00038-188.txt', 'sub-00047-192.txt', 'sub-00010-133.txt', 'sub-00109-169.txt', 'sub-00115-182.txt', 'sub-00055-188.txt', 'sub-00015-123.txt', 'sub-00076-158.txt', 'sub-00122-163.txt', 'sub-00087-166.txt', 'sub-00001-128.txt', 'sub-00136-156.txt', 'sub-00138-174.txt', 'sub-00081-158.txt', 'sub-00103-147.txt', 'sub-00140-186.txt', 'sub-00126-179.txt', 'sub-00061-150.txt', 'sub-00034-173.txt', 'sub-00138-179.txt', 'sub-00060-156.txt', 'sub-00062-155.txt', 'sub-00068-199.txt', 'sub-00131-176.txt', 'sub-00024-144.txt', 'sub-00063-139.txt', 'sub-00063-152.txt', 'sub-00122-154.txt', 'sub-00064-143.txt', 'sub-00020-164.txt', 'sub-00083-154.txt', 'sub-00015-138.txt', 'sub-00109-160.txt', 'sub-00066-147.txt', 'sub-00087-160.txt', 'sub-00068-217.txt', 'sub-00132-192.txt', 'sub-00126-193.txt', 'sub-00146-157.txt', 'sub-00062-169.txt', 'sub-00100-176.txt', 'sub-00043-131.txt', 'sub-00121-123.txt', 'sub-00080-174.txt', 'sub-00131-167.txt', 'sub-00103-152.txt', 'sub-00044-159.txt', 'sub-00014-123.txt', 'sub-00116-126.txt', 'sub-00123-156.txt', 'sub-00087-159.txt', 'sub-00073-167.txt', 'sub-00109-168.txt', 'sub-00015-136.txt', 'sub-00107-199.txt', 'sub-00020-182.txt', 'sub-00047-206.txt', 'sub-00121-146.txt', 'sub-00063-136.txt', 'sub-00134-188.txt', 'sub-00107-197.txt', 'sub-00123-170.txt', 'sub-00128-167.txt', 'sub-00055-164.txt', 'sub-00066-161.txt', 'sub-00061-157.txt', 'sub-00122-162.txt', 'sub-00010-153.txt', 'sub-00068-209.txt'}\n",
      "\n",
      "Archivos faltantes en la carpeta de validación:\n",
      "{'sub-00040-129.txt', 'sub-00107-189.txt', 'sub-00010-158.txt', 'sub-00016-158.txt', 'sub-00097-168.txt', 'sub-00006-167.txt', 'sub-00032-174.txt', 'sub-00091-165.txt', 'sub-00064-159.txt', 'sub-00058-187.txt', 'sub-00080-169.txt', 'sub-00050-171.txt', 'sub-00131-170.txt', 'sub-00003-176.txt', 'sub-00101-153.txt', 'sub-00078-204.txt', 'sub-00044-160.txt', 'sub-00048-151.txt', 'sub-00038-171.txt', 'sub-00100-153.txt', 'sub-00004-151.txt', 'sub-00115-195.txt', 'sub-00003-161.txt', 'sub-00126-206.txt', 'sub-00043-128.txt', 'sub-00038-197.txt', 'sub-00136-161.txt', 'sub-00132-177.txt', 'sub-00097-165.txt', 'sub-00066-148.txt', 'sub-00142-174.txt', 'sub-00059-171.txt', 'sub-00136-158.txt', 'sub-00146-158.txt', 'sub-00044-158.txt', 'sub-00140-198.txt', 'sub-00141-174.txt', 'sub-00107-185.txt', 'sub-00058-207.txt', 'sub-00140-189.txt', 'sub-00083-161.txt', 'sub-00065-144.txt', 'sub-00043-132.txt', 'sub-00003-151.txt', 'sub-00016-159.txt', 'sub-00033-179.txt', 'sub-00128-174.txt', 'sub-00071-153.txt', 'sub-00071-156.txt', 'sub-00078-196.txt', 'sub-00090-135.txt', 'sub-00063-147.txt', 'sub-00138-152.txt', 'sub-00010-136.txt', 'sub-00095-155.txt', 'sub-00059-152.txt', 'sub-00003-152.txt', 'sub-00144-148.txt', 'sub-00034-171.txt', 'sub-00115-175.txt', 'sub-00077-197.txt', 'sub-00097-153.txt', 'sub-00125-182.txt', 'sub-00083-153.txt', 'sub-00136-170.txt', 'sub-00100-173.txt', 'sub-00058-213.txt', 'sub-00077-214.txt', 'sub-00132-188.txt', 'sub-00058-179.txt', 'sub-00132-197.txt', 'sub-00089-149.txt', 'sub-00109-178.txt', 'sub-00132-194.txt', 'sub-00048-160.txt', 'sub-00091-166.txt', 'sub-00043-136.txt', 'sub-00003-150.txt', 'sub-00132-207.txt', 'sub-00128-159.txt', 'sub-00064-164.txt', 'sub-00032-161.txt', 'sub-00128-171.txt', 'sub-00003-173.txt', 'sub-00062-168.txt', 'sub-00097-171.txt', 'sub-00066-150.txt', 'sub-00138-151.txt', 'sub-00078-200.txt', 'sub-00109-162.txt', 'sub-00073-157.txt', 'sub-00064-127.txt', 'sub-00098-128.txt', 'sub-00092-156.txt', 'sub-00058-199.txt', 'sub-00109-172.txt', 'sub-00060-155.txt', 'sub-00061-159.txt', 'sub-00107-192.txt', 'sub-00098-138.txt', 'sub-00141-187.txt', 'sub-00107-176.txt', 'sub-00078-195.txt', 'sub-00098-133.txt', 'sub-00032-178.txt', 'sub-00060-143.txt', 'sub-00132-206.txt', 'sub-00100-160.txt', 'sub-00116-125.txt', 'sub-00107-193.txt', 'sub-00109-152.txt', 'sub-00066-164.txt', 'sub-00063-125.txt', 'sub-00038-170.txt', 'sub-00081-156.txt', 'sub-00115-186.txt', 'sub-00063-134.txt', 'sub-00065-141.txt', 'sub-00107-175.txt', 'sub-00063-144.txt', 'sub-00060-158.txt', 'sub-00126-207.txt', 'sub-00128-178.txt', 'sub-00043-146.txt', 'sub-00141-172.txt', 'sub-00047-205.txt', 'sub-00055-192.txt', 'sub-00128-186.txt', 'sub-00066-153.txt', 'sub-00126-181.txt', 'sub-00060-132.txt', 'sub-00010-138.txt', 'sub-00009-126.txt', 'sub-00020-179.txt', 'sub-00040-149.txt', 'sub-00064-129.txt', 'sub-00020-159.txt', 'sub-00063-158.txt', 'sub-00138-166.txt', 'sub-00132-200.txt', 'sub-00136-174.txt', 'sub-00125-185.txt', 'sub-00097-173.txt', 'sub-00103-162.txt', 'sub-00097-169.txt', 'sub-00024-143.txt', 'sub-00032-168.txt', 'sub-00032-158.txt', 'sub-00010-134.txt', 'sub-00126-190.txt', 'sub-00058-196.txt', 'sub-00126-200.txt', 'sub-00050-156.txt', 'sub-00091-156.txt', 'sub-00047-201.txt', 'sub-00140-200.txt', 'sub-00138-182.txt', 'sub-00016-171.txt', 'sub-00003-155.txt', 'sub-00059-163.txt', 'sub-00044-162.txt', 'sub-00142-186.txt', 'sub-00126-183.txt', 'sub-00038-183.txt', 'sub-00126-185.txt', 'sub-00059-151.txt', 'sub-00090-165.txt', 'sub-00123-159.txt', 'sub-00146-154.txt', 'sub-00062-162.txt', 'sub-00003-148.txt', 'sub-00141-166.txt', 'sub-00103-159.txt', 'sub-00016-155.txt', 'sub-00126-177.txt', 'sub-00047-180.txt', 'sub-00098-148.txt', 'sub-00020-174.txt', 'sub-00128-173.txt', 'sub-00063-126.txt', 'sub-00126-187.txt', 'sub-00098-139.txt', 'sub-00109-175.txt', 'sub-00047-193.txt', 'sub-00071-158.txt', 'sub-00001-138.txt', 'sub-00050-170.txt', 'sub-00061-168.txt', 'sub-00098-129.txt', 'sub-00047-186.txt', 'sub-00134-194.txt', 'sub-00024-146.txt', 'sub-00068-204.txt', 'sub-00142-178.txt', 'sub-00126-189.txt', 'sub-00016-151.txt', 'sub-00090-160.txt', 'sub-00122-156.txt', 'sub-00033-165.txt', 'sub-00134-184.txt', 'sub-00116-127.txt', 'sub-00016-185.txt', 'sub-00115-200.txt', 'sub-00066-149.txt', 'sub-00144-153.txt', 'sub-00133-138.txt', 'sub-00115-191.txt', 'sub-00055-187.txt', 'sub-00146-155.txt', 'sub-00076-169.txt', 'sub-00095-165.txt', 'sub-00063-155.txt', 'sub-00032-166.txt', 'sub-00098-140.txt', 'sub-00064-151.txt', 'sub-00020-185.txt', 'sub-00089-142.txt', 'sub-00103-150.txt', 'sub-00142-163.txt', 'sub-00016-156.txt', 'sub-00058-192.txt', 'sub-00128-175.txt', 'sub-00058-182.txt', 'sub-00065-137.txt', 'sub-00016-174.txt', 'sub-00066-158.txt', 'sub-00133-129.txt', 'sub-00068-208.txt', 'sub-00060-139.txt', 'sub-00144-150.txt', 'sub-00060-159.txt', 'sub-00131-184.txt', 'sub-00144-144.txt', 'sub-00072-169.txt', 'sub-00131-160.txt', 'sub-00071-162.txt', 'sub-00083-155.txt', 'sub-00125-195.txt', 'sub-00089-138.txt', 'sub-00062-161.txt', 'sub-00020-161.txt', 'sub-00080-177.txt', 'sub-00121-138.txt', 'sub-00142-181.txt', 'sub-00040-124.txt', 'sub-00020-187.txt', 'sub-00058-215.txt', 'sub-00058-185.txt', 'sub-00122-153.txt', 'sub-00034-168.txt', 'sub-00009-135.txt', 'sub-00055-176.txt', 'sub-00066-167.txt', 'sub-00038-178.txt', 'sub-00055-173.txt', 'sub-00089-139.txt', 'sub-00077-218.txt', 'sub-00016-169.txt', 'sub-00092-158.txt', 'sub-00003-147.txt', 'sub-00044-155.txt', 'sub-00058-202.txt', 'sub-00081-160.txt', 'sub-00077-207.txt', 'sub-00122-170.txt', 'sub-00126-198.txt', 'sub-00140-196.txt', 'sub-00142-182.txt', 'sub-00134-191.txt', 'sub-00100-166.txt', 'sub-00020-192.txt', 'sub-00055-178.txt', 'sub-00038-194.txt', 'sub-00122-164.txt', 'sub-00055-168.txt', 'sub-00122-171.txt', 'sub-00097-161.txt', 'sub-00080-173.txt', 'sub-00010-149.txt', 'sub-00047-207.txt', 'sub-00059-154.txt', 'sub-00134-196.txt', 'sub-00055-165.txt', 'sub-00134-195.txt', 'sub-00105-175.txt', 'sub-00134-177.txt', 'sub-00132-203.txt', 'sub-00047-189.txt', 'sub-00001-143.txt', 'sub-00141-176.txt', 'sub-00078-194.txt', 'sub-00108-122.txt', 'sub-00044-156.txt', 'sub-00043-139.txt', 'sub-00095-147.txt', 'sub-00065-136.txt', 'sub-00145-150.txt', 'sub-00125-184.txt', 'sub-00055-190.txt', 'sub-00063-157.txt', 'sub-00058-212.txt', 'sub-00063-128.txt', 'sub-00125-188.txt', 'sub-00066-166.txt', 'sub-00038-175.txt', 'sub-00090-166.txt', 'sub-00048-161.txt', 'sub-00133-122.txt', 'sub-00095-158.txt', 'sub-00065-143.txt', 'sub-00115-192.txt', 'sub-00038-180.txt', 'sub-00040-145.txt', 'sub-00009-130.txt', 'sub-00055-155.txt', 'sub-00090-147.txt', 'sub-00090-136.txt', 'sub-00144-151.txt', 'sub-00055-177.txt', 'sub-00123-173.txt', 'sub-00058-186.txt', 'sub-00059-161.txt', 'sub-00144-155.txt', 'sub-00138-178.txt', 'sub-00040-140.txt', 'sub-00095-148.txt', 'sub-00065-140.txt', 'sub-00010-129.txt', 'sub-00001-136.txt', 'sub-00123-171.txt', 'sub-00109-174.txt', 'sub-00072-165.txt', 'sub-00105-166.txt', 'sub-00059-160.txt', 'sub-00048-159.txt', 'sub-00020-165.txt', 'sub-00068-196.txt', 'sub-00077-210.txt', 'sub-00050-161.txt', 'sub-00076-170.txt', 'sub-00003-156.txt', 'sub-00098-147.txt', 'sub-00089-143.txt', 'sub-00062-170.txt', 'sub-00003-163.txt', 'sub-00126-197.txt', 'sub-00136-176.txt', 'sub-00138-171.txt', 'sub-00061-177.txt', 'sub-00078-183.txt', 'sub-00071-166.txt', 'sub-00126-196.txt', 'sub-00006-162.txt', 'sub-00095-163.txt', 'sub-00020-163.txt', 'sub-00101-166.txt', 'sub-00090-146.txt', 'sub-00128-189.txt', 'sub-00044-161.txt', 'sub-00040-139.txt', 'sub-00128-187.txt', 'sub-00128-181.txt', 'sub-00015-135.txt', 'sub-00050-155.txt', 'sub-00061-178.txt', 'sub-00059-164.txt', 'sub-00090-137.txt', 'sub-00105-163.txt', 'sub-00115-198.txt', 'sub-00133-123.txt', 'sub-00092-157.txt', 'sub-00089-147.txt', 'sub-00059-165.txt', 'sub-00032-177.txt', 'sub-00078-180.txt', 'sub-00128-169.txt', 'sub-00133-125.txt', 'sub-00001-132.txt', 'sub-00076-166.txt', 'sub-00016-188.txt', 'sub-00097-155.txt', 'sub-00097-159.txt', 'sub-00064-167.txt', 'sub-00062-157.txt', 'sub-00100-165.txt', 'sub-00032-173.txt', 'sub-00016-175.txt', 'sub-00105-169.txt', 'sub-00138-149.txt', 'sub-00133-132.txt', 'sub-00089-140.txt', 'sub-00073-166.txt', 'sub-00138-164.txt', 'sub-00101-165.txt', 'sub-00125-211.txt', 'sub-00121-130.txt', 'sub-00004-150.txt', 'sub-00090-140.txt', 'sub-00105-160.txt', 'sub-00016-187.txt', 'sub-00061-156.txt', 'sub-00016-148.txt', 'sub-00055-156.txt', 'sub-00098-127.txt', 'sub-00101-154.txt', 'sub-00014-128.txt', 'sub-00033-176.txt', 'sub-00055-195.txt', 'sub-00076-168.txt', 'sub-00128-168.txt', 'sub-00001-137.txt', 'sub-00020-190.txt', 'sub-00109-170.txt', 'sub-00066-160.txt', 'sub-00121-128.txt', 'sub-00144-154.txt', 'sub-00077-199.txt', 'sub-00141-181.txt', 'sub-00020-169.txt', 'sub-00087-165.txt', 'sub-00078-182.txt', 'sub-00009-133.txt', 'sub-00132-205.txt', 'sub-00077-202.txt', 'sub-00071-159.txt', 'sub-00133-137.txt', 'sub-00103-149.txt', 'sub-00040-136.txt', 'sub-00115-187.txt', 'sub-00080-181.txt', 'sub-00142-166.txt', 'sub-00003-157.txt', 'sub-00058-210.txt', 'sub-00078-184.txt', 'sub-00123-179.txt', 'sub-00133-134.txt', 'sub-00071-161.txt', 'sub-00128-185.txt', 'sub-00068-218.txt', 'sub-00090-153.txt', 'sub-00136-166.txt', 'sub-00038-187.txt', 'sub-00060-134.txt', 'sub-00125-202.txt', 'sub-00040-122.txt', 'sub-00015-146.txt', 'sub-00033-166.txt', 'sub-00080-176.txt', 'sub-00077-217.txt', 'sub-00078-199.txt', 'sub-00068-200.txt', 'sub-00116-123.txt', 'sub-00092-149.txt', 'sub-00015-134.txt', 'sub-00066-170.txt', 'sub-00092-160.txt', 'sub-00138-147.txt', 'sub-00040-130.txt', 'sub-00064-155.txt', 'sub-00098-141.txt', 'sub-00123-162.txt', 'sub-00060-148.txt', 'sub-00133-131.txt', 'sub-00103-163.txt', 'sub-00038-177.txt', 'sub-00076-162.txt', 'sub-00068-210.txt', 'sub-00060-149.txt', 'sub-00116-122.txt', 'sub-00062-166.txt', 'sub-00116-130.txt', 'sub-00003-165.txt', 'sub-00063-127.txt', 'sub-00087-162.txt', 'sub-00081-157.txt', 'sub-00126-202.txt', 'sub-00073-159.txt', 'sub-00063-138.txt', 'sub-00064-126.txt', 'sub-00142-187.txt', 'sub-00059-157.txt', 'sub-00038-173.txt', 'sub-00090-151.txt', 'sub-00115-181.txt', 'sub-00015-145.txt', 'sub-00061-173.txt', 'sub-00146-159.txt', 'sub-00141-180.txt', 'sub-00016-152.txt', 'sub-00073-169.txt', 'sub-00136-159.txt', 'sub-00040-152.txt', 'sub-00092-155.txt', 'sub-00058-189.txt', 'sub-00125-187.txt', 'sub-00064-153.txt', 'sub-00107-180.txt', 'sub-00064-147.txt', 'sub-00125-209.txt', 'sub-00078-191.txt', 'sub-00146-153.txt', 'sub-00078-205.txt', 'sub-00059-176.txt', 'sub-00040-142.txt', 'sub-00116-124.txt', 'sub-00105-171.txt', 'sub-00055-189.txt', 'sub-00087-164.txt', 'sub-00006-160.txt', 'sub-00001-129.txt', 'sub-00080-178.txt', 'sub-00064-145.txt', 'sub-00080-186.txt', 'sub-00058-206.txt', 'sub-00087-157.txt', 'sub-00010-147.txt', 'sub-00121-125.txt', 'sub-00092-164.txt', 'sub-00063-154.txt', 'sub-00038-181.txt', 'sub-00107-177.txt', 'sub-00024-154.txt', 'sub-00092-152.txt', 'sub-00016-170.txt', 'sub-00100-171.txt', 'sub-00144-166.txt', 'sub-00055-153.txt', 'sub-00109-157.txt', 'sub-00128-160.txt', 'sub-00089-144.txt', 'sub-00066-146.txt', 'sub-00089-145.txt', 'sub-00140-187.txt', 'sub-00140-195.txt', 'sub-00080-171.txt', 'sub-00091-160.txt', 'sub-00064-161.txt', 'sub-00141-185.txt', 'sub-00125-183.txt', 'sub-00146-156.txt', 'sub-00126-209.txt', 'sub-00115-188.txt', 'sub-00010-141.txt', 'sub-00015-125.txt', 'sub-00047-183.txt', 'sub-00128-153.txt', 'sub-00100-156.txt', 'sub-00004-152.txt', 'sub-00055-191.txt', 'sub-00040-132.txt'}\n",
      "\n",
      "Archivos faltantes en la carpeta de prueba:\n",
      "{'sub-00077-212.txt', 'sub-00055-163.txt', 'sub-00125-194.txt', 'sub-00064-133.txt', 'sub-00006-166.txt', 'sub-00001-135.txt', 'sub-00122-155.txt', 'sub-00123-180.txt', 'sub-00103-143.txt', 'sub-00055-198.txt', 'sub-00115-194.txt', 'sub-00061-171.txt', 'sub-00058-205.txt', 'sub-00061-172.txt', 'sub-00098-130.txt', 'sub-00058-164.txt', 'sub-00068-205.txt', 'sub-00061-151.txt', 'sub-00004-144.txt', 'sub-00048-150.txt', 'sub-00105-172.txt', 'sub-00032-179.txt', 'sub-00016-160.txt', 'sub-00016-189.txt', 'sub-00016-150.txt', 'sub-00123-160.txt', 'sub-00055-179.txt', 'sub-00062-163.txt', 'sub-00142-164.txt', 'sub-00081-153.txt', 'sub-00136-172.txt', 'sub-00020-189.txt', 'sub-00006-168.txt', 'sub-00020-170.txt', 'sub-00107-187.txt', 'sub-00145-154.txt', 'sub-00050-160.txt', 'sub-00103-144.txt', 'sub-00063-156.txt', 'sub-00128-158.txt', 'sub-00038-193.txt', 'sub-00064-154.txt', 'sub-00121-145.txt', 'sub-00063-122.txt', 'sub-00134-187.txt', 'sub-00146-160.txt', 'sub-00016-149.txt', 'sub-00126-178.txt', 'sub-00125-186.txt', 'sub-00121-127.txt', 'sub-00123-174.txt', 'sub-00058-193.txt', 'sub-00121-134.txt', 'sub-00138-153.txt', 'sub-00092-145.txt', 'sub-00145-149.txt', 'sub-00144-161.txt', 'sub-00016-153.txt', 'sub-00047-179.txt', 'sub-00131-162.txt', 'sub-00061-153.txt', 'sub-00003-145.txt', 'sub-00063-124.txt', 'sub-00098-126.txt', 'sub-00055-171.txt', 'sub-00128-164.txt', 'sub-00128-152.txt', 'sub-00136-171.txt', 'sub-00016-182.txt', 'sub-00064-136.txt', 'sub-00040-153.txt', 'sub-00115-184.txt', 'sub-00103-154.txt', 'sub-00121-126.txt', 'sub-00105-164.txt', 'sub-00020-175.txt', 'sub-00121-124.txt', 'sub-00060-146.txt', 'sub-00134-198.txt', 'sub-00077-201.txt', 'sub-00076-164.txt', 'sub-00115-201.txt', 'sub-00003-149.txt', 'sub-00044-151.txt', 'sub-00138-169.txt', 'sub-00141-178.txt', 'sub-00061-170.txt', 'sub-00016-181.txt', 'sub-00131-175.txt', 'sub-00140-182.txt', 'sub-00080-183.txt', 'sub-00142-165.txt', 'sub-00055-174.txt', 'sub-00142-180.txt', 'sub-00003-159.txt', 'sub-00080-175.txt', 'sub-00134-199.txt', 'sub-00095-157.txt', 'sub-00089-133.txt', 'sub-00126-205.txt', 'sub-00064-158.txt', 'sub-00095-160.txt', 'sub-00020-184.txt', 'sub-00116-131.txt', 'sub-00121-140.txt', 'sub-00040-144.txt', 'sub-00095-164.txt', 'sub-00060-150.txt', 'sub-00016-195.txt', 'sub-00010-143.txt', 'sub-00055-154.txt', 'sub-00101-164.txt', 'sub-00125-192.txt', 'sub-00132-184.txt', 'sub-00010-150.txt', 'sub-00032-162.txt', 'sub-00061-167.txt', 'sub-00107-179.txt', 'sub-00016-172.txt', 'sub-00077-208.txt', 'sub-00115-178.txt', 'sub-00016-180.txt', 'sub-00033-169.txt', 'sub-00038-186.txt', 'sub-00033-173.txt', 'sub-00092-162.txt', 'sub-00134-183.txt', 'sub-00116-137.txt', 'sub-00040-128.txt', 'sub-00077-200.txt', 'sub-00122-168.txt', 'sub-00058-184.txt', 'sub-00122-165.txt', 'sub-00068-214.txt', 'sub-00136-169.txt', 'sub-00121-122.txt', 'sub-00047-184.txt', 'sub-00126-203.txt', 'sub-00073-164.txt', 'sub-00024-148.txt', 'sub-00055-172.txt', 'sub-00136-175.txt', 'sub-00142-167.txt', 'sub-00136-167.txt', 'sub-00126-186.txt', 'sub-00003-146.txt', 'sub-00016-166.txt', 'sub-00016-154.txt', 'sub-00145-153.txt', 'sub-00038-179.txt', 'sub-00003-181.txt', 'sub-00131-171.txt', 'sub-00060-135.txt', 'sub-00050-154.txt', 'sub-00091-158.txt', 'sub-00090-144.txt', 'sub-00138-154.txt', 'sub-00033-171.txt', 'sub-00098-145.txt', 'sub-00003-178.txt', 'sub-00058-190.txt', 'sub-00105-174.txt', 'sub-00100-159.txt', 'sub-00140-191.txt', 'sub-00060-144.txt', 'sub-00047-198.txt', 'sub-00063-143.txt', 'sub-00064-123.txt', 'sub-00044-163.txt', 'sub-00107-186.txt'}\n"
     ]
    }
   ],
   "source": [
    "import os\n",
    "\n",
    "def check_matching_files(image_train_path, image_val_path, image_test_path, label_train_path, label_val_path, label_test_path):\n",
    "    # Obtener los nombres de los archivos en cada carpeta\n",
    "    image_train_files = set(os.listdir(image_train_path))\n",
    "    image_val_files = set(os.listdir(image_val_path))\n",
    "    image_test_files = set(os.listdir(image_test_path))\n",
    "    \n",
    "    label_train_files = set(os.listdir(label_train_path))\n",
    "    label_val_files = set(os.listdir(label_val_path))\n",
    "    label_test_files = set(os.listdir(label_test_path))\n",
    "    \n",
    "    # Calcular los archivos faltantes en cada carpeta\n",
    "    missing_in_train = label_train_files - image_train_files\n",
    "    missing_in_val = label_val_files - image_val_files\n",
    "    missing_in_test = label_test_files - image_test_files\n",
    "    \n",
    "    # Imprimir los archivos faltantes en cada carpeta\n",
    "    if missing_in_train:\n",
    "        print(\"Archivos faltantes en la carpeta de entrenamiento:\")\n",
    "        print(missing_in_train)\n",
    "    else:\n",
    "        print(\"Todos los archivos están presentes en la carpeta de entrenamiento.\")\n",
    "        \n",
    "    if missing_in_val:\n",
    "        print(\"\\nArchivos faltantes en la carpeta de validación:\")\n",
    "        print(missing_in_val)\n",
    "    else:\n",
    "        print(\"\\nTodos los archivos están presentes en la carpeta de validación.\")\n",
    "        \n",
    "    if missing_in_test:\n",
    "        print(\"\\nArchivos faltantes en la carpeta de prueba:\")\n",
    "        print(missing_in_test)\n",
    "    else:\n",
    "        print(\"\\nTodos los archivos están presentes en la carpeta de prueba.\")\n",
    "\n",
    "# Directorios de las carpetas de imágenes y etiquetas\n",
    "image_train_dir = \"/home/mariopasc/Python/Datasets/t2flair-yolov8-ds/images/train\"\n",
    "image_val_dir = \"/home/mariopasc/Python/Datasets/t2flair-yolov8-ds/images/val\"\n",
    "image_test_dir = \"/home/mariopasc/Python/Datasets/t2flair-yolov8-ds/images/test\"\n",
    "\n",
    "label_train_dir = \"/home/mariopasc/Python/Datasets/t2flair-yolov8-ds/labels/train\"\n",
    "label_val_dir = \"/home/mariopasc/Python/Datasets/t2flair-yolov8-ds/labels/val\"\n",
    "label_test_dir = \"/home/mariopasc/Python/Datasets/t2flair-yolov8-ds/labels/test\"\n",
    "\n",
    "# Llamar a la función para comprobar los archivos\n",
    "check_matching_files(image_train_dir, image_val_dir, image_test_dir, label_train_dir, label_val_dir, label_test_dir)\n"
   ],
   "metadata": {
    "collapsed": false,
    "ExecuteTime": {
     "end_time": "2024-03-10T16:21:32.522920430Z",
     "start_time": "2024-03-10T16:21:32.481269548Z"
    }
   },
   "id": "4e264af5a95bfef2"
  },
  {
   "cell_type": "markdown",
   "source": [
    "ERROR (1): Parece que ha habido un problema con el nombre, hay pacientes que sí tienen roi pero que el nombre de su fichero T2 contiene solo la palabra FLAIR\n",
    "SOLUCIÓN (1): Se ha solucionado al cambiar una línea en el ejecutable organizar_estudios.sh: \n",
    "```find \"$folder/anat\" -type f -name \"*FLAIR*\" -exec mv -t \"$destination_t2flair_dir/$folder_name\" {} +``` \n"
   ],
   "metadata": {
    "collapsed": false
   },
   "id": "8263ca115550d3a4"
  },
  {
   "cell_type": "code",
   "execution_count": 77,
   "outputs": [
    {
     "name": "stdout",
     "output_type": "stream",
     "text": [
      "La cantidad de archivos TRAIN es: 4773\n",
      "La cantidad de archivos VAL es: 2387\n",
      "La cantidad de archivos TEST es: 796\n",
      "Porcentajes: \n",
      " train: 59.99245852187028% \n",
      " val: 30.002513826043238% \n",
      " test: 10.005027652086476%\n"
     ]
    }
   ],
   "source": [
    "# Vamos a comprobar que funciona...\n",
    "def count_files_in_txt(txt_file):\n",
    "    try:\n",
    "        with open(txt_file, 'r') as file:\n",
    "            file_count = sum(1 for line in file)\n",
    "        return file_count\n",
    "    except FileNotFoundError:\n",
    "        print(f\"El archivo {txt_file} no existe.\")\n",
    "        return None\n",
    "\n",
    "# Ejemplo de uso:\n",
    "txt_file_path_1 = \"/home/mariopasc/Python/Projects/BSC_final/epilepsy-displasia-focal-segmentation/text-info-files/train_files.txt\"\n",
    "file_count1 = count_files_in_txt(txt_file_path_1)\n",
    "txt_file_path_2 = \"/home/mariopasc/Python/Projects/BSC_final/epilepsy-displasia-focal-segmentation/text-info-files/val_files.txt\"\n",
    "file_count2 = count_files_in_txt(txt_file_path_2)\n",
    "txt_file_path_3 = \"/home/mariopasc/Python/Projects/BSC_final/epilepsy-displasia-focal-segmentation/text-info-files/test_files.txt\"\n",
    "file_count3 = count_files_in_txt(txt_file_path_3)\n",
    "\n",
    "print(f\"La cantidad de archivos TRAIN es: {file_count1}\")\n",
    "print(f\"La cantidad de archivos VAL es: {file_count2}\")\n",
    "print(f\"La cantidad de archivos TEST es: {file_count3}\")\n",
    "\n",
    "total = file_count1 + file_count2 + file_count3\n",
    "print(f\"Porcentajes: \\n train: {file_count1/total * 100}% \\n val: {file_count2/total * 100}% \\n test: {file_count3/total * 100}%\")"
   ],
   "metadata": {
    "collapsed": false,
    "ExecuteTime": {
     "end_time": "2024-03-10T14:49:58.225372516Z",
     "start_time": "2024-03-10T14:49:58.219759664Z"
    }
   },
   "id": "9344bb0435c9241"
  },
  {
   "cell_type": "markdown",
   "source": [
    "Como queremos exlcuir algunas rodajas se ha creado esta función para guardar las rodajas a excluir"
   ],
   "metadata": {
    "collapsed": false
   },
   "id": "59bf1cfa9c34013"
  },
  {
   "cell_type": "code",
   "execution_count": null,
   "outputs": [],
   "source": [
    "def guardar_vector_en_txt(path_salida, vector):\n",
    "    with open(path_salida, 'w') as archivo:\n",
    "        for valor in vector:\n",
    "            archivo.write(str(valor) + '\\n')\n",
    "\n",
    "vector = list(range(1, 121)) + list(range(223, 257))\n",
    "guardar_vector_en_txt(os.path.join(\"/home/mariopasc/Python/Projects/BSC_final/epilepsy-displasia-focal-segmentation/text-info-files\", \"excluir-slices.txt\"),\n",
    "                      vector)"
   ],
   "metadata": {
    "collapsed": false
   },
   "id": "bc6c25d6417f05f4"
  },
  {
   "cell_type": "markdown",
   "source": [
    "Se preguntó por el procedimiento que se debe tener a la hora de tratar con cortes sin información. Por ahora se va a implementar una función que devuelva en un fichero .txt todos los cortes del paciente sub-00XXX que no contengan un ROI. "
   ],
   "metadata": {
    "collapsed": false
   },
   "id": "d4657d38dcfc23e"
  },
  {
   "cell_type": "code",
   "execution_count": 19,
   "outputs": [
    {
     "name": "stdout",
     "output_type": "stream",
     "text": [
      "Process finished with exit code 0\n"
     ]
    }
   ],
   "source": [
    "# Esta función guarda en un .txt las rodajas de un estudio .nii.gz que no tienen un ROI asociado. \n",
    "def find_empty_slices(input_path, output_path):\n",
    "    # Verificar si el directorio de entrada existe\n",
    "    if not os.path.isdir(input_path):\n",
    "        print(\"Input directory does not exist.\")\n",
    "        return\n",
    "    if os.path.isdir(output_path):\n",
    "        # Si no existe el .txt lo creamos con el nombre idpaciente-noROI.txt\n",
    "        output_path = os.path.join(output_path, (os.path.split(input_path)[-1] + \"-noROI.txt\"))\n",
    "\n",
    "    # Obtener la lista de archivos .nii.gz en el directorio de entrada\n",
    "    nii_files = [file for file in os.listdir(input_path) if file.endswith('.nii.gz')]\n",
    "\n",
    "    empty_slices = []\n",
    "\n",
    "    for nii_file in nii_files:\n",
    "        # Cargar el archivo .nii.gz\n",
    "        img = nib.load(os.path.join(input_path, nii_file))\n",
    "        data = np.uint8(img.get_fdata())\n",
    "        num_slices = data.shape[2]\n",
    "\n",
    "        for i in range(num_slices):\n",
    "            # Obtener una sola rodaja\n",
    "            slice_data = data[:, :, i]\n",
    "\n",
    "            # Encontrar contornos en la imagen\n",
    "            contours, _ = cv.findContours(slice_data, cv.RETR_EXTERNAL, cv.CHAIN_APPROX_SIMPLE)\n",
    "\n",
    "            # Si no hay contornos en la rodaja, agregar el número de corte a la lista\n",
    "            if len(contours)==0:\n",
    "                empty_slices.append(i)\n",
    "\n",
    "    # Escribir la lista de cortes vacíos en el archivo de salida\n",
    "    with open(output_path, 'w') as file:\n",
    "        for slice_num in empty_slices:\n",
    "            file.write(f\"{slice_num}\\n\")\n",
    "\n",
    "    print(\"Process finished with exit code 0\")\n"
   ],
   "metadata": {
    "collapsed": false,
    "ExecuteTime": {
     "end_time": "2024-03-10T13:37:00.417929119Z",
     "start_time": "2024-03-10T13:37:00.364718669Z"
    }
   },
   "id": "c74ad91edb0bc6c5"
  },
  {
   "cell_type": "markdown",
   "source": [
    "No es el mejor acercamiento, hay muy pocas rodajas con ROI asociado. Se va a optar por un enfoque semi-automático, en el que se quitarán las slices pasadas como parámetro. "
   ],
   "metadata": {
    "collapsed": false
   },
   "id": "1d41e6c1e95a9442"
  },
  {
   "cell_type": "code",
   "execution_count": null,
   "outputs": [],
   "source": [],
   "metadata": {
    "collapsed": false
   },
   "id": "d424ac4625f03d03"
  }
 ],
 "metadata": {
  "kernelspec": {
   "display_name": "Python 3",
   "language": "python",
   "name": "python3"
  },
  "language_info": {
   "codemirror_mode": {
    "name": "ipython",
    "version": 2
   },
   "file_extension": ".py",
   "mimetype": "text/x-python",
   "name": "python",
   "nbconvert_exporter": "python",
   "pygments_lexer": "ipython2",
   "version": "2.7.6"
  }
 },
 "nbformat": 4,
 "nbformat_minor": 5
}
