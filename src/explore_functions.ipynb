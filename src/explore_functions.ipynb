{
 "cells": [
  {
   "cell_type": "code",
   "execution_count": 74,
   "outputs": [],
   "source": [
    "import os\n",
    "import nibabel as nib\n",
    "import cv2 as cv\n",
    "import numpy as np\n",
    "from sklearn.model_selection import train_test_split\n",
    "import matplotlib.pyplot as plt\n",
    "\n",
    "slices_excluir = \"/home/mariopasc/Python/Projects/BSC_final/epilepsy-displasia-focal-segmentation/text-info-files/excluir-slices.txt\"\n",
    "\n",
    "t2flair_path = \"/home/mariopasc/Python/Datasets/ds-epilepsy/T2flair-study\"\n",
    "t1w_path = \"/home/mariopasc/Python/Datasets/ds-epilepsy/T1w-study\"\n",
    "roi_path = \"/home/mariopasc/Python/Datasets/ds-epilepsy/roi\"\n",
    "\n",
    "t2flair_nii_path = \"/home/mariopasc/Python/Datasets/ds-epilepsy/T2flair-study-nii\"\n",
    "t1w_nii_path = \"/home/mariopasc/Python/Datasets/ds-epilepsy/T1w-study-nii\"\n",
    "roi_nii_path = \"/home/mariopasc/Python/Datasets/ds-epilepsy/roi-nii\"\n",
    "\n",
    "t2flair_im_train_path = \"/home/mariopasc/Python/Datasets/t2flair-yolov8-ds/images/train\"\n",
    "t2flair_im_val_path = \"/home/mariopasc/Python/Datasets/t2flair-yolov8-ds/images/val\"\n",
    "t2flair_label_train_path = \"/home/mariopasc/Python/Datasets/t2flair-yolov8-ds/labels/train\"\n",
    "t2flair_label_train_val = \"/home/mariopasc/Python/Datasets/t2flair-yolov8-ds/labels/val\"\n",
    "\n",
    "t1w_im_train_path = \"/home/mariopasc/Python/Datasets/t1w-yolov8-ds/images/train\"\n",
    "t1w_im_val_path = \"/home/mariopasc/Python/Datasets/t1w-yolov8-ds/images/val\"\n",
    "t1w_label_train_path = \"/home/mariopasc/Python/Datasets/t1w-yolov8-ds/labels/train\"\n",
    "t1w_label_train_val = \"/home/mariopasc/Python/Datasets/t1w-yolov8-ds/labels/val\""
   ],
   "metadata": {
    "collapsed": false,
    "ExecuteTime": {
     "end_time": "2024-03-10T14:45:04.980918036Z",
     "start_time": "2024-03-10T14:45:04.821135006Z"
    }
   },
   "id": "448802908f0b30e9"
  },
  {
   "cell_type": "markdown",
   "source": [
    "### Data Loader - Convertir .nii.gz a imágenes PNG o JPEG2000"
   ],
   "metadata": {
    "collapsed": false
   },
   "id": "12a07edb298ec2b9"
  },
  {
   "cell_type": "code",
   "execution_count": 79,
   "outputs": [
    {
     "name": "stdout",
     "output_type": "stream",
     "text": [
      "Hold-out completed successfully.\n"
     ]
    }
   ],
   "source": [
    "# Esta función convierte un estudio nii.gz a diversas imágenes .nii, asociando como nombre de las imágenes idpaciente-slice.nii.\n",
    "# VER2: Se añade también un parámetro de entrada que es una lista de rodajas que no se deben incluir\n",
    "def convert_gz_nii(niigz_file, save_path, path_excluir, patient_id):\n",
    "    # Verificar si el archivo .nii.gz existe\n",
    "    if not os.path.isfile(niigz_file):\n",
    "        print(\"Error: Specified .nii.gz file doesn't exist.\")\n",
    "        return\n",
    "    # Creamos el vector con las rodajas a exlcuir\n",
    "    exclude_slices = []\n",
    "    # Si existe el archivo .txt, rellenamos el vector con las rodajas que hay que excluir\n",
    "    # Si no existe, se asume que se incluyen todas. \n",
    "    if os.path.isfile(path_excluir):\n",
    "        with open(path_excluir, 'r') as archivo:\n",
    "            for linea in archivo:\n",
    "                exclude_slices.append(int(linea.strip()))\n",
    "    \n",
    "    # Cargar el archivo .nii.gz\n",
    "    img = nib.load(niigz_file)\n",
    "    data = img.get_fdata()\n",
    "    # Obtener el número de rodajas\n",
    "    num_slices = data.shape[2]\n",
    "\n",
    "    # Crear el directorio de destino si no existe\n",
    "    if not os.path.exists(save_path):\n",
    "        os.makedirs(save_path)\n",
    "\n",
    "    # Iterar sobre todas las rodajas y guardarlas como imágenes .nii\n",
    "    for i in range(num_slices):\n",
    "        # Verificar si la rodaja está en la lista de exclusión\n",
    "        if i in exclude_slices:\n",
    "            continue  # Saltar esta rodaja\n",
    "\n",
    "        # Obtener una sola rodaja\n",
    "        slice_data = data[:, :, i]\n",
    "        # Crear el nombre de la imagen\n",
    "        image_name = f\"{patient_id}-{i}.nii\"\n",
    "        # Guardar la imagen .nii\n",
    "        nib.save(nib.Nifti1Image(slice_data, img.affine), os.path.join(save_path, image_name))\n",
    "\n",
    "    print(\"Process finished with exit code 0\")\n",
    "\n",
    "\n",
    "# Esta función hace uso de la anterior para convertir un estudio completo a formato .nii\n",
    "def study_to_nii(study_path, save_path, path_excluir):\n",
    "    if not os.path.exists(study_path):\n",
    "        print(\"Input file does not exist\")\n",
    "        return\n",
    "    \n",
    "    # Por cada paciente dentro del estudio\n",
    "    for patient_id in os.listdir(study_path):\n",
    "        # Comprobar si el elemento es una carpeta\n",
    "        patient_folder = os.path.join(study_path, patient_id)\n",
    "        if not os.path.isdir(patient_folder):\n",
    "            print(f\"Patient {patient_folder} not found\")\n",
    "            continue\n",
    "\n",
    "        # Extraemos el nombre de su archivo nii.gz\n",
    "        niigz_files = [path for path in os.listdir(patient_folder) if path.endswith(\".nii.gz\")]\n",
    "        if not niigz_files:\n",
    "            print(f\"No .nii.gz file found for patient {patient_id}\")\n",
    "            continue\n",
    "\n",
    "        # Asumimos que solo hay un archivo .nii.gz por paciente\n",
    "        niigz_file = os.path.join(patient_folder, niigz_files[0])\n",
    "        convert_gz_nii(niigz_file=niigz_file, save_path=save_path, patient_id=patient_id, path_excluir=path_excluir)\n",
    "\n",
    "# Esta función toma como entrada una carpeta con imágenes .nii y las guarda en la carpeta de destino en el formato especificado. \n",
    "def convert_nii_image_holdout(input_txt):\n",
    "    # Verificar si el archivo .txt existe\n",
    "    if not os.path.isfile(input_txt):\n",
    "        print(\"Input txt file does not exist.\")\n",
    "        return\n",
    "    \n",
    "    # Leer el archivo .txt\n",
    "    with open(input_txt, 'r') as file:\n",
    "        lines = file.readlines()\n",
    "    \n",
    "    # Obtener las rutas de los folders y archivos\n",
    "    nii_folder = lines[0].split(':')[1].strip()\n",
    "    train_folder = lines[1].split(':')[1].strip()\n",
    "    train_nii_files = lines[2].split(':')[1].strip()\n",
    "    val_folder = lines[3].split(':')[1].strip()\n",
    "    val_nii_files = lines[4].split(':')[1].strip()\n",
    "    test_folder = lines[5].split(':')[1].strip()\n",
    "    test_nii_files = lines[6].split(':')[1].strip()\n",
    "    imformat = lines[7].split(':')[1].strip().lower()\n",
    "    \n",
    "    # Función para convertir .nii a imagen\n",
    "    def convert_to_image(nii_files, folder):\n",
    "        for nii_file in nii_files:\n",
    "            # Cargar el archivo .nii\n",
    "            img = nib.load(os.path.join(nii_folder, nii_file))\n",
    "            data = img.get_fdata()\n",
    "\n",
    "            # Verificar si hay valores no válidos en los datos\n",
    "            if np.any(np.isnan(data)) or np.any(np.isinf(data)):\n",
    "                print(f\"Skipping {nii_file}: Invalid values encountered.\")\n",
    "                continue\n",
    "            \n",
    "            # ========== NORMALIZACIÓN PROVISIONAL ==========\n",
    "            # Normalizar los valores de píxel para que estén entre 0 y 255\n",
    "            data_normalized = ((data - np.min(data)) / (np.max(data) - np.min(data)) * 255).astype(np.uint8)\n",
    "            # ========== FIN NORMALIZACIÓN PROVISIONAL ======\n",
    "            \n",
    "            # Obtener el nombre del archivo sin la extensión .nii\n",
    "            file_name, _ = os.path.splitext(nii_file)\n",
    "            # Crear el nombre de la imagen con el formato especificado\n",
    "            image_name = f\"{file_name}.{imformat}\"\n",
    "            # Guardar la imagen en el formato especificado\n",
    "            cv.imwrite(os.path.join(folder, image_name), data_normalized)\n",
    "\n",
    "    # Obtener los nombres de archivos .nii para train, val y test\n",
    "    train_nii_files = [file.strip() for file in open(train_nii_files, 'r').readlines()]\n",
    "    val_nii_files = [file.strip() for file in open(val_nii_files, 'r').readlines()]\n",
    "    test_nii_files = [file.strip() for file in open(test_nii_files, 'r').readlines()]\n",
    "    \n",
    "    # Convertir .nii a imágenes para train, val y test\n",
    "    convert_to_image(train_nii_files, train_folder)\n",
    "    convert_to_image(val_nii_files, val_folder)\n",
    "    convert_to_image(test_nii_files, test_folder)\n",
    "\n",
    "    print(\"Process finished with exit code 0.\")\n",
    "\n",
    "# Esta función se encarga del hold out (gracias a dios que existe scikit-learn)\n",
    "def holdout_nii_images(folder_path, val_percent, test_percent, output_path):\n",
    "    # Obtener la lista de archivos .nii en la carpeta\n",
    "    nii_files = [file for file in os.listdir(folder_path) if file.endswith('.nii')]\n",
    "\n",
    "    # Dividir los nombres de los archivos en train, val y test\n",
    "    train_files, val_test_files = train_test_split(nii_files, test_size=(val_percent + test_percent), random_state=42)\n",
    "    val_files, test_files = train_test_split(val_test_files, test_size=test_percent/(val_percent + test_percent), random_state=42)\n",
    "\n",
    "    # Escribir los nombres de los archivos en archivos de texto\n",
    "    def write_to_txt(file_list, txt_path):\n",
    "        with open(txt_path, 'w') as file:\n",
    "            for file_name in file_list:\n",
    "                file.write(file_name + '\\n')\n",
    "\n",
    "    write_to_txt(train_files, os.path.join(output_path, 'train_files.txt'))\n",
    "    write_to_txt(val_files, os.path.join(output_path, 'val_files.txt'))\n",
    "    write_to_txt(test_files, os.path.join(output_path, 'test_files.txt'))\n",
    "\n",
    "    print(\"Hold-out completed successfully.\")\n",
    "\n"
   ],
   "metadata": {
    "collapsed": false,
    "ExecuteTime": {
     "end_time": "2024-03-10T15:05:55.957147784Z",
     "start_time": "2024-03-10T15:05:55.942845731Z"
    }
   },
   "id": "68decc85abef5e2a"
  },
  {
   "cell_type": "markdown",
   "source": [
    "Workflow actual: \n",
    "\n",
    "1. Convertir el estudio dado a .nii. La carpeta del estudio dado debe tener en su interior carpetas con el nombre del paciente \"sub-00XXXX\" y, dentro de esas carpetas, debe estar el archivo .nii.gz. Se puede dar como argumento un .txt con rodajas que se excluirán de convertir a .nii. \n",
    "2. Realizar el hold-out de los datos. Los archivos .nii dedicados a train, val y test serán guardados en 3 archivos .txt. Estos archivos serán recibidos como entrada en la función que convierte los archivos .nii a PNG (paso 3) y las redirigirá a sus respectivas carpetas. \n",
    "3. Convertir el estudio en .nii a un formato sin pérdidas. Se ha implementado una normalización provisional dentro de este método. En un futuro, cuando se aplique un preprocesamiento a las rodajas del archivo .nii.gz, esta normalización ya vendrá dada. "
   ],
   "metadata": {
    "collapsed": false
   },
   "id": "9fbaf06981bcbad"
  },
  {
   "cell_type": "code",
   "execution_count": 83,
   "outputs": [
    {
     "name": "stdout",
     "output_type": "stream",
     "text": [
      "Process finished with exit code 0.\n"
     ]
    }
   ],
   "source": [
    "holdout_nii_images(folder_path=t2flair_nii_path,\n",
    "                   val_percent=0.3,\n",
    "                   test_percent=0.1,\n",
    "                   output_path=\"/home/mariopasc/Python/Projects/BSC_final/epilepsy-displasia-focal-segmentation/text-info-files/t2flair-holdout\")\n",
    "    \n",
    "convert_nii_image_holdout(input_txt=\"/home/mariopasc/Python/Projects/BSC_final/epilepsy-displasia-focal-segmentation/text-info-files/t2study-specifications.txt\")"
   ],
   "metadata": {
    "collapsed": false,
    "ExecuteTime": {
     "end_time": "2024-03-10T15:13:47.674725101Z",
     "start_time": "2024-03-10T15:13:42.107790139Z"
    }
   },
   "id": "4ff8109e7819c645"
  },
  {
   "cell_type": "markdown",
   "source": [
    "ERROR (1): Parece que ha habido un problema con el nombre, hay pacientes que sí tienen roi pero que el nombre de su fichero T2 contiene solo la palabra FLAIR\n",
    "SOLUCIÓN (1): Se ha solucionado al cambiar una línea en el ejecutable organizar_estudios.sh: \n",
    "```find \"$folder/anat\" -type f -name \"*FLAIR*\" -exec mv -t \"$destination_t2flair_dir/$folder_name\" {} +``` \n"
   ],
   "metadata": {
    "collapsed": false
   },
   "id": "8263ca115550d3a4"
  },
  {
   "cell_type": "code",
   "execution_count": 77,
   "outputs": [
    {
     "name": "stdout",
     "output_type": "stream",
     "text": [
      "La cantidad de archivos TRAIN es: 4773\n",
      "La cantidad de archivos VAL es: 2387\n",
      "La cantidad de archivos TEST es: 796\n",
      "Porcentajes: \n",
      " train: 59.99245852187028% \n",
      " val: 30.002513826043238% \n",
      " test: 10.005027652086476%\n"
     ]
    }
   ],
   "source": [
    "# Vamos a comprobar que funciona...\n",
    "def count_files_in_txt(txt_file):\n",
    "    try:\n",
    "        with open(txt_file, 'r') as file:\n",
    "            file_count = sum(1 for line in file)\n",
    "        return file_count\n",
    "    except FileNotFoundError:\n",
    "        print(f\"El archivo {txt_file} no existe.\")\n",
    "        return None\n",
    "\n",
    "# Ejemplo de uso:\n",
    "txt_file_path_1 = \"/home/mariopasc/Python/Projects/BSC_final/epilepsy-displasia-focal-segmentation/text-info-files/train_files.txt\"\n",
    "file_count1 = count_files_in_txt(txt_file_path_1)\n",
    "txt_file_path_2 = \"/home/mariopasc/Python/Projects/BSC_final/epilepsy-displasia-focal-segmentation/text-info-files/val_files.txt\"\n",
    "file_count2 = count_files_in_txt(txt_file_path_2)\n",
    "txt_file_path_3 = \"/home/mariopasc/Python/Projects/BSC_final/epilepsy-displasia-focal-segmentation/text-info-files/test_files.txt\"\n",
    "file_count3 = count_files_in_txt(txt_file_path_3)\n",
    "\n",
    "print(f\"La cantidad de archivos TRAIN es: {file_count1}\")\n",
    "print(f\"La cantidad de archivos VAL es: {file_count2}\")\n",
    "print(f\"La cantidad de archivos TEST es: {file_count3}\")\n",
    "\n",
    "total = file_count1 + file_count2 + file_count3\n",
    "print(f\"Porcentajes: \\n train: {file_count1/total * 100}% \\n val: {file_count2/total * 100}% \\n test: {file_count3/total * 100}%\")"
   ],
   "metadata": {
    "collapsed": false,
    "ExecuteTime": {
     "end_time": "2024-03-10T14:49:58.225372516Z",
     "start_time": "2024-03-10T14:49:58.219759664Z"
    }
   },
   "id": "9344bb0435c9241"
  },
  {
   "cell_type": "markdown",
   "source": [
    "Como queremos exlcuir algunas rodajas se ha creado esta función para guardar las rodajas a excluir"
   ],
   "metadata": {
    "collapsed": false
   },
   "id": "59bf1cfa9c34013"
  },
  {
   "cell_type": "code",
   "execution_count": null,
   "outputs": [],
   "source": [
    "def guardar_vector_en_txt(path_salida, vector):\n",
    "    with open(path_salida, 'w') as archivo:\n",
    "        for valor in vector:\n",
    "            archivo.write(str(valor) + '\\n')\n",
    "\n",
    "vector = list(range(1, 121)) + list(range(223, 257))\n",
    "guardar_vector_en_txt(os.path.join(\"/home/mariopasc/Python/Projects/BSC_final/epilepsy-displasia-focal-segmentation/text-info-files\", \"excluir-slices.txt\"),\n",
    "                      vector)"
   ],
   "metadata": {
    "collapsed": false
   },
   "id": "bc6c25d6417f05f4"
  },
  {
   "cell_type": "markdown",
   "source": [
    "Se preguntó por el procedimiento que se debe tener a la hora de tratar con cortes sin información. Por ahora se va a implementar una función que devuelva en un fichero .txt todos los cortes del paciente sub-00XXX que no contengan un ROI. "
   ],
   "metadata": {
    "collapsed": false
   },
   "id": "d4657d38dcfc23e"
  },
  {
   "cell_type": "code",
   "execution_count": 19,
   "outputs": [
    {
     "name": "stdout",
     "output_type": "stream",
     "text": [
      "Process finished with exit code 0\n"
     ]
    }
   ],
   "source": [
    "# Esta función guarda en un .txt las rodajas de un estudio .nii.gz que no tienen un ROI asociado. \n",
    "def find_empty_slices(input_path, output_path):\n",
    "    # Verificar si el directorio de entrada existe\n",
    "    if not os.path.isdir(input_path):\n",
    "        print(\"Input directory does not exist.\")\n",
    "        return\n",
    "    if os.path.isdir(output_path):\n",
    "        # Si no existe el .txt lo creamos con el nombre idpaciente-noROI.txt\n",
    "        output_path = os.path.join(output_path, (os.path.split(input_path)[-1] + \"-noROI.txt\"))\n",
    "\n",
    "    # Obtener la lista de archivos .nii.gz en el directorio de entrada\n",
    "    nii_files = [file for file in os.listdir(input_path) if file.endswith('.nii.gz')]\n",
    "\n",
    "    empty_slices = []\n",
    "\n",
    "    for nii_file in nii_files:\n",
    "        # Cargar el archivo .nii.gz\n",
    "        img = nib.load(os.path.join(input_path, nii_file))\n",
    "        data = np.uint8(img.get_fdata())\n",
    "        num_slices = data.shape[2]\n",
    "\n",
    "        for i in range(num_slices):\n",
    "            # Obtener una sola rodaja\n",
    "            slice_data = data[:, :, i]\n",
    "\n",
    "            # Encontrar contornos en la imagen\n",
    "            contours, _ = cv.findContours(slice_data, cv.RETR_EXTERNAL, cv.CHAIN_APPROX_SIMPLE)\n",
    "\n",
    "            # Si no hay contornos en la rodaja, agregar el número de corte a la lista\n",
    "            if len(contours)==0:\n",
    "                empty_slices.append(i)\n",
    "\n",
    "    # Escribir la lista de cortes vacíos en el archivo de salida\n",
    "    with open(output_path, 'w') as file:\n",
    "        for slice_num in empty_slices:\n",
    "            file.write(f\"{slice_num}\\n\")\n",
    "\n",
    "    print(\"Process finished with exit code 0\")\n"
   ],
   "metadata": {
    "collapsed": false,
    "ExecuteTime": {
     "end_time": "2024-03-10T13:37:00.417929119Z",
     "start_time": "2024-03-10T13:37:00.364718669Z"
    }
   },
   "id": "c74ad91edb0bc6c5"
  },
  {
   "cell_type": "markdown",
   "source": [
    "No es el mejor acercamiento, hay muy pocas rodajas con ROI asociado. Se va a optar por un enfoque semi-automático, en el que se quitarán las slices pasadas como parámetro. "
   ],
   "metadata": {
    "collapsed": false
   },
   "id": "1d41e6c1e95a9442"
  },
  {
   "cell_type": "code",
   "execution_count": null,
   "outputs": [],
   "source": [],
   "metadata": {
    "collapsed": false
   },
   "id": "d424ac4625f03d03"
  }
 ],
 "metadata": {
  "kernelspec": {
   "display_name": "Python 3",
   "language": "python",
   "name": "python3"
  },
  "language_info": {
   "codemirror_mode": {
    "name": "ipython",
    "version": 2
   },
   "file_extension": ".py",
   "mimetype": "text/x-python",
   "name": "python",
   "nbconvert_exporter": "python",
   "pygments_lexer": "ipython2",
   "version": "2.7.6"
  }
 },
 "nbformat": 4,
 "nbformat_minor": 5
}
